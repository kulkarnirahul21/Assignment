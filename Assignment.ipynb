{
 "cells": [
  {
   "cell_type": "markdown",
   "metadata": {},
   "source": [
    "# EDA on Movie rating data"
   ]
  },
  {
   "cell_type": "code",
   "execution_count": 1,
   "metadata": {
    "collapsed": false
   },
   "outputs": [],
   "source": [
    "# Load required packages for Data analysis\n",
    "%matplotlib inline\n",
    "import pandas as pd\n",
    "import matplotlib.pyplot as plt"
   ]
  },
  {
   "cell_type": "code",
   "execution_count": 2,
   "metadata": {
    "collapsed": false
   },
   "outputs": [],
   "source": [
    "main_data = pd.read_csv(\"movie_metadata.csv\")"
   ]
  },
  {
   "cell_type": "code",
   "execution_count": 3,
   "metadata": {
    "collapsed": false
   },
   "outputs": [
    {
     "name": "stdout",
     "output_type": "stream",
     "text": [
      "Number of columns: 28\n"
     ]
    }
   ],
   "source": [
    "print(\"Number of columns: {}\".format(len(main_data.columns)))"
   ]
  },
  {
   "cell_type": "code",
   "execution_count": 4,
   "metadata": {
    "collapsed": false
   },
   "outputs": [
    {
     "data": {
      "text/html": [
       "<div>\n",
       "<table border=\"1\" class=\"dataframe\">\n",
       "  <thead>\n",
       "    <tr style=\"text-align: right;\">\n",
       "      <th></th>\n",
       "      <th>color</th>\n",
       "      <th>director_name</th>\n",
       "      <th>director_facebook_likes</th>\n",
       "      <th>num_critic_for_reviews</th>\n",
       "      <th>duration</th>\n",
       "      <th>actor_1_name</th>\n",
       "      <th>actor_1_facebook_likes</th>\n",
       "      <th>actor_2_name</th>\n",
       "      <th>actor_2_facebook_likes</th>\n",
       "      <th>actor_3_name</th>\n",
       "      <th>...</th>\n",
       "      <th>plot_keywords</th>\n",
       "      <th>movie_imdb_link</th>\n",
       "      <th>num_user_for_reviews</th>\n",
       "      <th>language</th>\n",
       "      <th>country</th>\n",
       "      <th>content_rating</th>\n",
       "      <th>budget</th>\n",
       "      <th>title_year</th>\n",
       "      <th>imdb_score</th>\n",
       "      <th>aspect_ratio</th>\n",
       "    </tr>\n",
       "  </thead>\n",
       "  <tbody>\n",
       "    <tr>\n",
       "      <th>0</th>\n",
       "      <td>Color</td>\n",
       "      <td>James Cameron</td>\n",
       "      <td>0.0</td>\n",
       "      <td>723.0</td>\n",
       "      <td>178.0</td>\n",
       "      <td>CCH Pounder</td>\n",
       "      <td>1000.0</td>\n",
       "      <td>Joel David Moore</td>\n",
       "      <td>936.0</td>\n",
       "      <td>Wes Studi</td>\n",
       "      <td>...</td>\n",
       "      <td>avatar|future|marine|native|paraplegic</td>\n",
       "      <td>http://www.imdb.com/title/tt0499549/?ref_=fn_t...</td>\n",
       "      <td>3054.0</td>\n",
       "      <td>English</td>\n",
       "      <td>USA</td>\n",
       "      <td>PG-13</td>\n",
       "      <td>237000000.0</td>\n",
       "      <td>2009.0</td>\n",
       "      <td>7.9</td>\n",
       "      <td>1.78</td>\n",
       "    </tr>\n",
       "    <tr>\n",
       "      <th>1</th>\n",
       "      <td>Color</td>\n",
       "      <td>Gore Verbinski</td>\n",
       "      <td>563.0</td>\n",
       "      <td>302.0</td>\n",
       "      <td>169.0</td>\n",
       "      <td>Johnny Depp</td>\n",
       "      <td>40000.0</td>\n",
       "      <td>Orlando Bloom</td>\n",
       "      <td>5000.0</td>\n",
       "      <td>Jack Davenport</td>\n",
       "      <td>...</td>\n",
       "      <td>goddess|marriage ceremony|marriage proposal|pi...</td>\n",
       "      <td>http://www.imdb.com/title/tt0449088/?ref_=fn_t...</td>\n",
       "      <td>1238.0</td>\n",
       "      <td>English</td>\n",
       "      <td>USA</td>\n",
       "      <td>PG-13</td>\n",
       "      <td>300000000.0</td>\n",
       "      <td>2007.0</td>\n",
       "      <td>7.1</td>\n",
       "      <td>2.35</td>\n",
       "    </tr>\n",
       "    <tr>\n",
       "      <th>2</th>\n",
       "      <td>Color</td>\n",
       "      <td>Sam Mendes</td>\n",
       "      <td>0.0</td>\n",
       "      <td>602.0</td>\n",
       "      <td>148.0</td>\n",
       "      <td>Christoph Waltz</td>\n",
       "      <td>11000.0</td>\n",
       "      <td>Rory Kinnear</td>\n",
       "      <td>393.0</td>\n",
       "      <td>Stephanie Sigman</td>\n",
       "      <td>...</td>\n",
       "      <td>bomb|espionage|sequel|spy|terrorist</td>\n",
       "      <td>http://www.imdb.com/title/tt2379713/?ref_=fn_t...</td>\n",
       "      <td>994.0</td>\n",
       "      <td>English</td>\n",
       "      <td>UK</td>\n",
       "      <td>PG-13</td>\n",
       "      <td>245000000.0</td>\n",
       "      <td>2015.0</td>\n",
       "      <td>6.8</td>\n",
       "      <td>2.35</td>\n",
       "    </tr>\n",
       "    <tr>\n",
       "      <th>3</th>\n",
       "      <td>Color</td>\n",
       "      <td>Christopher Nolan</td>\n",
       "      <td>22000.0</td>\n",
       "      <td>813.0</td>\n",
       "      <td>164.0</td>\n",
       "      <td>Tom Hardy</td>\n",
       "      <td>27000.0</td>\n",
       "      <td>Christian Bale</td>\n",
       "      <td>23000.0</td>\n",
       "      <td>Joseph Gordon-Levitt</td>\n",
       "      <td>...</td>\n",
       "      <td>deception|imprisonment|lawlessness|police offi...</td>\n",
       "      <td>http://www.imdb.com/title/tt1345836/?ref_=fn_t...</td>\n",
       "      <td>2701.0</td>\n",
       "      <td>English</td>\n",
       "      <td>USA</td>\n",
       "      <td>PG-13</td>\n",
       "      <td>250000000.0</td>\n",
       "      <td>2012.0</td>\n",
       "      <td>8.5</td>\n",
       "      <td>2.35</td>\n",
       "    </tr>\n",
       "    <tr>\n",
       "      <th>4</th>\n",
       "      <td>NaN</td>\n",
       "      <td>Doug Walker</td>\n",
       "      <td>131.0</td>\n",
       "      <td>NaN</td>\n",
       "      <td>NaN</td>\n",
       "      <td>Doug Walker</td>\n",
       "      <td>131.0</td>\n",
       "      <td>Rob Walker</td>\n",
       "      <td>12.0</td>\n",
       "      <td>NaN</td>\n",
       "      <td>...</td>\n",
       "      <td>NaN</td>\n",
       "      <td>http://www.imdb.com/title/tt5289954/?ref_=fn_t...</td>\n",
       "      <td>NaN</td>\n",
       "      <td>NaN</td>\n",
       "      <td>NaN</td>\n",
       "      <td>NaN</td>\n",
       "      <td>NaN</td>\n",
       "      <td>NaN</td>\n",
       "      <td>7.1</td>\n",
       "      <td>NaN</td>\n",
       "    </tr>\n",
       "  </tbody>\n",
       "</table>\n",
       "<p>5 rows × 28 columns</p>\n",
       "</div>"
      ],
      "text/plain": [
       "   color      director_name  director_facebook_likes  num_critic_for_reviews  \\\n",
       "0  Color      James Cameron                      0.0                   723.0   \n",
       "1  Color     Gore Verbinski                    563.0                   302.0   \n",
       "2  Color         Sam Mendes                      0.0                   602.0   \n",
       "3  Color  Christopher Nolan                  22000.0                   813.0   \n",
       "4    NaN        Doug Walker                    131.0                     NaN   \n",
       "\n",
       "   duration     actor_1_name  actor_1_facebook_likes      actor_2_name  \\\n",
       "0     178.0      CCH Pounder                  1000.0  Joel David Moore   \n",
       "1     169.0      Johnny Depp                 40000.0     Orlando Bloom   \n",
       "2     148.0  Christoph Waltz                 11000.0      Rory Kinnear   \n",
       "3     164.0        Tom Hardy                 27000.0    Christian Bale   \n",
       "4       NaN      Doug Walker                   131.0        Rob Walker   \n",
       "\n",
       "   actor_2_facebook_likes          actor_3_name     ...       \\\n",
       "0                   936.0             Wes Studi     ...        \n",
       "1                  5000.0        Jack Davenport     ...        \n",
       "2                   393.0      Stephanie Sigman     ...        \n",
       "3                 23000.0  Joseph Gordon-Levitt     ...        \n",
       "4                    12.0                   NaN     ...        \n",
       "\n",
       "                                       plot_keywords  \\\n",
       "0             avatar|future|marine|native|paraplegic   \n",
       "1  goddess|marriage ceremony|marriage proposal|pi...   \n",
       "2                bomb|espionage|sequel|spy|terrorist   \n",
       "3  deception|imprisonment|lawlessness|police offi...   \n",
       "4                                                NaN   \n",
       "\n",
       "                                     movie_imdb_link  num_user_for_reviews  \\\n",
       "0  http://www.imdb.com/title/tt0499549/?ref_=fn_t...                3054.0   \n",
       "1  http://www.imdb.com/title/tt0449088/?ref_=fn_t...                1238.0   \n",
       "2  http://www.imdb.com/title/tt2379713/?ref_=fn_t...                 994.0   \n",
       "3  http://www.imdb.com/title/tt1345836/?ref_=fn_t...                2701.0   \n",
       "4  http://www.imdb.com/title/tt5289954/?ref_=fn_t...                   NaN   \n",
       "\n",
       "  language country  content_rating       budget  title_year imdb_score  \\\n",
       "0  English     USA           PG-13  237000000.0      2009.0        7.9   \n",
       "1  English     USA           PG-13  300000000.0      2007.0        7.1   \n",
       "2  English      UK           PG-13  245000000.0      2015.0        6.8   \n",
       "3  English     USA           PG-13  250000000.0      2012.0        8.5   \n",
       "4      NaN     NaN             NaN          NaN         NaN        7.1   \n",
       "\n",
       "  aspect_ratio  \n",
       "0         1.78  \n",
       "1         2.35  \n",
       "2         2.35  \n",
       "3         2.35  \n",
       "4          NaN  \n",
       "\n",
       "[5 rows x 28 columns]"
      ]
     },
     "execution_count": 4,
     "metadata": {},
     "output_type": "execute_result"
    }
   ],
   "source": [
    "main_data.head()"
   ]
  },
  {
   "cell_type": "code",
   "execution_count": 5,
   "metadata": {
    "collapsed": true
   },
   "outputs": [],
   "source": [
    "X = pd.DataFrame(main_data.director_name.value_counts())\n",
    "X.reset_index(inplace=True)\n",
    "X.rename(columns={\"index\":\"director_name\",\"director_name\":\"Fillms\"},inplace=True)\n",
    "main_data = pd.merge(main_data,X,on = ['director_name'],how='left')"
   ]
  },
  {
   "cell_type": "code",
   "execution_count": 6,
   "metadata": {
    "collapsed": false
   },
   "outputs": [
    {
     "name": "stdout",
     "output_type": "stream",
     "text": [
      "Number of observations: 5043\n",
      "NULL values: \n",
      " color                         19\n",
      "director_name                104\n",
      "director_facebook_likes      104\n",
      "num_critic_for_reviews        50\n",
      "duration                      15\n",
      "actor_1_name                   7\n",
      "actor_1_facebook_likes         7\n",
      "actor_2_name                  13\n",
      "actor_2_facebook_likes        13\n",
      "actor_3_name                  23\n",
      "actor_3_facebook_likes        23\n",
      "movie_facebook_likes           0\n",
      "gross                        884\n",
      "genres                         0\n",
      "movie_title                    0\n",
      "num_voted_users                0\n",
      "cast_total_facebook_likes      0\n",
      "facenumber_in_poster          13\n",
      "plot_keywords                153\n",
      "movie_imdb_link                0\n",
      "num_user_for_reviews          21\n",
      "language                      12\n",
      "country                        5\n",
      "content_rating               303\n",
      "budget                       492\n",
      "title_year                   108\n",
      "imdb_score                     0\n",
      "aspect_ratio                 329\n",
      "Fillms                       104\n",
      "dtype: int64\n",
      "Seems like 25% of the observations have NULL values\n"
     ]
    }
   ],
   "source": [
    "print(\"Number of observations: {}\".format(len(main_data)))\n",
    "print(\"NULL values: \\n\",main_data.isnull().sum())\n",
    "print(\"Seems like 25% of the observations have NULL values\")\n",
    "data = main_data.dropna()"
   ]
  },
  {
   "cell_type": "code",
   "execution_count": 7,
   "metadata": {
    "collapsed": false
   },
   "outputs": [
    {
     "data": {
      "text/plain": [
       "Color               4815\n",
       " Black and White     209\n",
       "Name: color, dtype: int64"
      ]
     },
     "execution_count": 7,
     "metadata": {},
     "output_type": "execute_result"
    }
   ],
   "source": [
    "main_data.color.value_counts()"
   ]
  },
  {
   "cell_type": "code",
   "execution_count": 8,
   "metadata": {
    "collapsed": false
   },
   "outputs": [
    {
     "name": "stdout",
     "output_type": "stream",
     "text": [
      "Few directors are very experienced, ie: they have done multiple films in their career\n"
     ]
    }
   ],
   "source": [
    "x = main_data.director_name.value_counts()\n",
    "len(x)\n",
    "print(\"Few directors are very experienced, ie: they have done multiple films in their career\")"
   ]
  },
  {
   "cell_type": "code",
   "execution_count": 9,
   "metadata": {
    "collapsed": false
   },
   "outputs": [
    {
     "data": {
      "text/plain": [
       "count    4993.000000\n",
       "mean      140.194272\n",
       "std       121.601675\n",
       "min         1.000000\n",
       "25%        50.000000\n",
       "50%       110.000000\n",
       "75%       195.000000\n",
       "max       813.000000\n",
       "Name: num_critic_for_reviews, dtype: float64"
      ]
     },
     "execution_count": 9,
     "metadata": {},
     "output_type": "execute_result"
    }
   ],
   "source": [
    "main_data.num_critic_for_reviews.describe()"
   ]
  },
  {
   "cell_type": "code",
   "execution_count": 10,
   "metadata": {
    "collapsed": false
   },
   "outputs": [
    {
     "data": {
      "text/plain": [
       "count    5028.000000\n",
       "mean      107.201074\n",
       "std        25.197441\n",
       "min         7.000000\n",
       "25%        93.000000\n",
       "50%       103.000000\n",
       "75%       118.000000\n",
       "max       511.000000\n",
       "Name: duration, dtype: float64"
      ]
     },
     "execution_count": 10,
     "metadata": {},
     "output_type": "execute_result"
    }
   ],
   "source": [
    "main_data.duration.describe()"
   ]
  },
  {
   "cell_type": "code",
   "execution_count": 11,
   "metadata": {
    "collapsed": false
   },
   "outputs": [
    {
     "name": "stderr",
     "output_type": "stream",
     "text": [
      "C:\\Users\\kulka\\Anaconda3\\lib\\site-packages\\ipykernel\\__main__.py:7: SettingWithCopyWarning: \n",
      "A value is trying to be set on a copy of a slice from a DataFrame.\n",
      "Try using .loc[row_indexer,col_indexer] = value instead\n",
      "\n",
      "See the caveats in the documentation: http://pandas.pydata.org/pandas-docs/stable/indexing.html#indexing-view-versus-copy\n",
      "C:\\Users\\kulka\\Anaconda3\\lib\\site-packages\\ipykernel\\__main__.py:8: SettingWithCopyWarning: \n",
      "A value is trying to be set on a copy of a slice from a DataFrame.\n",
      "Try using .loc[row_indexer,col_indexer] = value instead\n",
      "\n",
      "See the caveats in the documentation: http://pandas.pydata.org/pandas-docs/stable/indexing.html#indexing-view-versus-copy\n",
      "C:\\Users\\kulka\\Anaconda3\\lib\\site-packages\\ipykernel\\__main__.py:9: SettingWithCopyWarning: \n",
      "A value is trying to be set on a copy of a slice from a DataFrame.\n",
      "Try using .loc[row_indexer,col_indexer] = value instead\n",
      "\n",
      "See the caveats in the documentation: http://pandas.pydata.org/pandas-docs/stable/indexing.html#indexing-view-versus-copy\n",
      "C:\\Users\\kulka\\Anaconda3\\lib\\site-packages\\ipykernel\\__main__.py:10: SettingWithCopyWarning: \n",
      "A value is trying to be set on a copy of a slice from a DataFrame.\n",
      "Try using .loc[row_indexer,col_indexer] = value instead\n",
      "\n",
      "See the caveats in the documentation: http://pandas.pydata.org/pandas-docs/stable/indexing.html#indexing-view-versus-copy\n",
      "C:\\Users\\kulka\\Anaconda3\\lib\\site-packages\\ipykernel\\__main__.py:11: SettingWithCopyWarning: \n",
      "A value is trying to be set on a copy of a slice from a DataFrame.\n",
      "Try using .loc[row_indexer,col_indexer] = value instead\n",
      "\n",
      "See the caveats in the documentation: http://pandas.pydata.org/pandas-docs/stable/indexing.html#indexing-view-versus-copy\n"
     ]
    }
   ],
   "source": [
    "data.plot_keywords.str.split('|').head()\n",
    "x = data.plot_keywords.astype(str)\n",
    "a,b = x.str.split('|', 1).str\n",
    "b,c = b.str.split('|', 1).str\n",
    "c,d = c.str.split('|', 1).str\n",
    "d,e = d.str.split('|', 1).str\n",
    "data['type1'] = a\n",
    "data['type2'] = b\n",
    "data['type3'] = c\n",
    "data['type4'] = d\n",
    "data['type5'] = e"
   ]
  },
  {
   "cell_type": "code",
   "execution_count": 12,
   "metadata": {
    "collapsed": false
   },
   "outputs": [
    {
     "name": "stdout",
     "output_type": "stream",
     "text": [
      "5043\n",
      "3756\n"
     ]
    }
   ],
   "source": [
    "print(len(main_data))\n",
    "print(len(data))"
   ]
  },
  {
   "cell_type": "code",
   "execution_count": 13,
   "metadata": {
    "collapsed": false
   },
   "outputs": [
    {
     "name": "stderr",
     "output_type": "stream",
     "text": [
      "C:\\Users\\kulka\\Anaconda3\\lib\\site-packages\\ipykernel\\__main__.py:10: SettingWithCopyWarning: \n",
      "A value is trying to be set on a copy of a slice from a DataFrame.\n",
      "Try using .loc[row_indexer,col_indexer] = value instead\n",
      "\n",
      "See the caveats in the documentation: http://pandas.pydata.org/pandas-docs/stable/indexing.html#indexing-view-versus-copy\n",
      "C:\\Users\\kulka\\Anaconda3\\lib\\site-packages\\ipykernel\\__main__.py:11: SettingWithCopyWarning: \n",
      "A value is trying to be set on a copy of a slice from a DataFrame.\n",
      "Try using .loc[row_indexer,col_indexer] = value instead\n",
      "\n",
      "See the caveats in the documentation: http://pandas.pydata.org/pandas-docs/stable/indexing.html#indexing-view-versus-copy\n",
      "C:\\Users\\kulka\\Anaconda3\\lib\\site-packages\\ipykernel\\__main__.py:12: SettingWithCopyWarning: \n",
      "A value is trying to be set on a copy of a slice from a DataFrame.\n",
      "Try using .loc[row_indexer,col_indexer] = value instead\n",
      "\n",
      "See the caveats in the documentation: http://pandas.pydata.org/pandas-docs/stable/indexing.html#indexing-view-versus-copy\n",
      "C:\\Users\\kulka\\Anaconda3\\lib\\site-packages\\ipykernel\\__main__.py:13: SettingWithCopyWarning: \n",
      "A value is trying to be set on a copy of a slice from a DataFrame.\n",
      "Try using .loc[row_indexer,col_indexer] = value instead\n",
      "\n",
      "See the caveats in the documentation: http://pandas.pydata.org/pandas-docs/stable/indexing.html#indexing-view-versus-copy\n",
      "C:\\Users\\kulka\\Anaconda3\\lib\\site-packages\\ipykernel\\__main__.py:14: SettingWithCopyWarning: \n",
      "A value is trying to be set on a copy of a slice from a DataFrame.\n",
      "Try using .loc[row_indexer,col_indexer] = value instead\n",
      "\n",
      "See the caveats in the documentation: http://pandas.pydata.org/pandas-docs/stable/indexing.html#indexing-view-versus-copy\n",
      "C:\\Users\\kulka\\Anaconda3\\lib\\site-packages\\ipykernel\\__main__.py:15: SettingWithCopyWarning: \n",
      "A value is trying to be set on a copy of a slice from a DataFrame.\n",
      "Try using .loc[row_indexer,col_indexer] = value instead\n",
      "\n",
      "See the caveats in the documentation: http://pandas.pydata.org/pandas-docs/stable/indexing.html#indexing-view-versus-copy\n",
      "C:\\Users\\kulka\\Anaconda3\\lib\\site-packages\\ipykernel\\__main__.py:16: SettingWithCopyWarning: \n",
      "A value is trying to be set on a copy of a slice from a DataFrame.\n",
      "Try using .loc[row_indexer,col_indexer] = value instead\n",
      "\n",
      "See the caveats in the documentation: http://pandas.pydata.org/pandas-docs/stable/indexing.html#indexing-view-versus-copy\n",
      "C:\\Users\\kulka\\Anaconda3\\lib\\site-packages\\ipykernel\\__main__.py:17: SettingWithCopyWarning: \n",
      "A value is trying to be set on a copy of a slice from a DataFrame.\n",
      "Try using .loc[row_indexer,col_indexer] = value instead\n",
      "\n",
      "See the caveats in the documentation: http://pandas.pydata.org/pandas-docs/stable/indexing.html#indexing-view-versus-copy\n"
     ]
    }
   ],
   "source": [
    "data.genres.str.split('|').head()\n",
    "x = data.genres.astype(str)\n",
    "a,b = x.str.split('|', 1).str\n",
    "b,c = b.str.split('|', 1).str\n",
    "c,d = c.str.split('|', 1).str\n",
    "d,e = d.str.split('|', 1).str\n",
    "e,f = e.str.split('|', 1).str\n",
    "f,g = f.str.split('|', 1).str\n",
    "g,h = g.str.split('|', 1).str\n",
    "data['genre1'] = a\n",
    "data['genre2'] = b\n",
    "data['genre3'] = c\n",
    "data['genre4'] = d\n",
    "data['genre5'] = e\n",
    "data['genre6'] = f\n",
    "data['genre7'] = g\n",
    "data['genre8'] = h"
   ]
  },
  {
   "cell_type": "code",
   "execution_count": 14,
   "metadata": {
    "collapsed": false
   },
   "outputs": [
    {
     "data": {
      "text/plain": [
       "Robert De Niro    47\n",
       "Morgan Freeman    44\n",
       "Johnny Depp       39\n",
       "Bruce Willis      39\n",
       "Matt Damon        35\n",
       "dtype: int64"
      ]
     },
     "execution_count": 14,
     "metadata": {},
     "output_type": "execute_result"
    }
   ],
   "source": [
    "actors = pd.Series(list(data.actor_1_name) + list(data.actor_2_name) + list(data.actor_3_name))\n",
    "actors.value_counts().head()"
   ]
  },
  {
   "cell_type": "code",
   "execution_count": 15,
   "metadata": {
    "collapsed": false
   },
   "outputs": [
    {
     "data": {
      "text/plain": [
       "director_name\n",
       "Steven Spielberg    364000.0\n",
       "Martin Scorsese     340000.0\n",
       "Clint Eastwood      320000.0\n",
       "Woody Allen         242000.0\n",
       "David Fincher       210000.0\n",
       "Name: director_facebook_likes, dtype: float64"
      ]
     },
     "execution_count": 15,
     "metadata": {},
     "output_type": "execute_result"
    }
   ],
   "source": [
    "main_data.groupby('director_name').director_facebook_likes.sum().sort_values(ascending=False).head()"
   ]
  },
  {
   "cell_type": "code",
   "execution_count": 16,
   "metadata": {
    "collapsed": false
   },
   "outputs": [
    {
     "data": {
      "text/plain": [
       "director_name\n",
       "Steven Spielberg    3571.0\n",
       "Martin Scorsese     2888.0\n",
       "Clint Eastwood      2608.0\n",
       "Ridley Scott        2419.0\n",
       "Woody Allen         2194.0\n",
       "Name: duration, dtype: float64"
      ]
     },
     "execution_count": 16,
     "metadata": {},
     "output_type": "execute_result"
    }
   ],
   "source": [
    "main_data.groupby('director_name').duration.sum().sort_values(ascending=False).head()"
   ]
  },
  {
   "cell_type": "code",
   "execution_count": 17,
   "metadata": {
    "collapsed": false
   },
   "outputs": [
    {
     "name": "stdout",
     "output_type": "stream",
     "text": [
      "Which director movie's has maximum critics? \n",
      " ANS:\n"
     ]
    },
    {
     "data": {
      "text/plain": [
       "director_name\n",
       "Steven Spielberg    6582.0\n",
       "Ridley Scott        4930.0\n",
       "Peter Jackson       4542.0\n",
       "Martin Scorsese     4285.0\n",
       "Clint Eastwood      4244.0\n",
       "Name: num_critic_for_reviews, dtype: float64"
      ]
     },
     "execution_count": 17,
     "metadata": {},
     "output_type": "execute_result"
    }
   ],
   "source": [
    "print(\"Which director movie's has maximum critics? \\n ANS:\")\n",
    "main_data.groupby('director_name').num_critic_for_reviews.sum().sort_values(ascending=False).head()"
   ]
  },
  {
   "cell_type": "code",
   "execution_count": 18,
   "metadata": {
    "collapsed": false
   },
   "outputs": [
    {
     "name": "stdout",
     "output_type": "stream",
     "text": [
      "Movies which ran for very max days?\n",
      "1710    Trapped             \n",
      "Name: movie_title, dtype: object\n",
      "\n",
      "\n",
      "Movies which ran for very few days?\n"
     ]
    },
    {
     "data": {
      "text/plain": [
       "1947    Shaun the Sheep             \n",
       "2345                      The Touch \n",
       "Name: movie_title, dtype: object"
      ]
     },
     "execution_count": 18,
     "metadata": {},
     "output_type": "execute_result"
    }
   ],
   "source": [
    "print(\"Movies which ran for very max days?\")\n",
    "print(main_data[main_data.duration == main_data.duration.max()].movie_title)\n",
    "print(\"\\n\")\n",
    "print(\"Movies which ran for very few days?\")\n",
    "main_data[main_data.duration == main_data.duration.min()].movie_title"
   ]
  },
  {
   "cell_type": "code",
   "execution_count": 19,
   "metadata": {
    "collapsed": false
   },
   "outputs": [
    {
     "name": "stdout",
     "output_type": "stream",
     "text": [
      " Actor 1 names and their facebook likes\n",
      "===========================================\n",
      "actor_1_name\n",
      "Johnny Depp       1640000.0\n",
      "Robin Williams    1323000.0\n",
      "Robert De Niro    1078000.0\n",
      "Matthew Ziff       780000.0\n",
      "J.K. Simmons       744000.0\n",
      "Name: actor_1_facebook_likes, dtype: float64\n",
      "\n",
      "\n",
      " Actor 2 names and their facebook likes\n",
      "===========================================\n",
      "actor_2_name\n",
      "Morgan Freeman     220000.0\n",
      "Brad Pitt          154000.0\n",
      "Andrew Fiscella    137000.0\n",
      "Charlize Theron    135000.0\n",
      "Meryl Streep       121000.0\n",
      "Name: actor_2_facebook_likes, dtype: float64\n",
      "\n",
      "\n",
      " Actor 3 names and their facebook likes\n",
      "===========================================\n",
      "actor_3_name\n",
      "Anne Hathaway           77000.0\n",
      "Scarlett Johansson      76000.0\n",
      "Gary Oldman             50000.0\n",
      "Joseph Gordon-Levitt    46000.0\n",
      "Steve Carell            42000.0\n",
      "Name: actor_3_facebook_likes, dtype: float64\n"
     ]
    }
   ],
   "source": [
    "print(\" Actor 1 names and their facebook likes\")\n",
    "print(\"===========================================\")\n",
    "print(main_data.groupby('actor_1_name').actor_1_facebook_likes.sum().sort_values(ascending=False).head())\n",
    "print(\"\\n\")\n",
    "print(\" Actor 2 names and their facebook likes\")\n",
    "print(\"===========================================\")\n",
    "print(main_data.groupby('actor_2_name').actor_2_facebook_likes.sum().sort_values(ascending=False).head())\n",
    "print(\"\\n\")\n",
    "print(\" Actor 3 names and their facebook likes\")\n",
    "print(\"===========================================\")\n",
    "print(main_data.groupby('actor_3_name').actor_3_facebook_likes.sum().sort_values(ascending=False).head())"
   ]
  },
  {
   "cell_type": "code",
   "execution_count": 250,
   "metadata": {
    "collapsed": false
   },
   "outputs": [
    {
     "data": {
      "text/plain": [
       "<matplotlib.axes._subplots.AxesSubplot at 0x1cbd6243ba8>"
      ]
     },
     "execution_count": 250,
     "metadata": {},
     "output_type": "execute_result"
    },
    {
     "data": {
      "image/png": "[encoded data removed]",
      "text/plain": [
       "<matplotlib.figure.Figure at 0x1cbd5f44080>"
      ]
     },
     "metadata": {},
     "output_type": "display_data"
    }
   ],
   "source": [
    "fig, axs = plt.subplots(1, 3, sharey=True)\n",
    "main_data.plot(kind='scatter', x='actor_1_facebook_likes', y='movie_facebook_likes', ax=axs[0], figsize=(16, 8))\n",
    "main_data.plot(kind='scatter', x='actor_2_facebook_likes', y='movie_facebook_likes', ax=axs[1])\n",
    "main_data.plot(kind='scatter', x='actor_3_facebook_likes', y='movie_facebook_likes', ax=axs[2])"
   ]
  },
  {
   "cell_type": "code",
   "execution_count": 20,
   "metadata": {
    "collapsed": false
   },
   "outputs": [
    {
     "name": "stdout",
     "output_type": "stream",
     "text": [
      "which movie has most facebook likes?\n",
      "Ans: 96    Interstellar \n",
      "Name: movie_title, dtype: object\n",
      "\n",
      "\n",
      "which movie has least facebook likes?\n",
      "Ans:\n"
     ]
    },
    {
     "data": {
      "text/plain": [
       "1             Pirates of the Caribbean: At World's End \n",
       "4     Star Wars: Episode VII - The Force Awakens    ...\n",
       "6                                         Spider-Man 3 \n",
       "11                                    Superman Returns \n",
       "12                                   Quantum of Solace \n",
       "Name: movie_title, dtype: object"
      ]
     },
     "execution_count": 20,
     "metadata": {},
     "output_type": "execute_result"
    }
   ],
   "source": [
    "print(\"which movie has most facebook likes?\")\n",
    "print(\"Ans:\", main_data[main_data.movie_facebook_likes == main_data.movie_facebook_likes.max()].movie_title)\n",
    "print(\"\\n\")\n",
    "print(\"which movie has least facebook likes?\")\n",
    "print(\"Ans:\")\n",
    "main_data[main_data.movie_facebook_likes == main_data.movie_facebook_likes.min()].movie_title.head()"
   ]
  },
  {
   "cell_type": "code",
   "execution_count": 21,
   "metadata": {
    "collapsed": false
   },
   "outputs": [
    {
     "name": "stdout",
     "output_type": "stream",
     "text": [
      "Movies which have max gross income?\n",
      "0    Avatar \n",
      "Name: movie_title, dtype: object\n",
      "\n",
      "\n",
      "Movies which have minimum gross income?\n"
     ]
    },
    {
     "data": {
      "text/plain": [
       "3330    Skin Trade \n",
       "Name: movie_title, dtype: object"
      ]
     },
     "execution_count": 21,
     "metadata": {},
     "output_type": "execute_result"
    }
   ],
   "source": [
    "print(\"Movies which have max gross income?\")\n",
    "print(main_data[main_data.gross == main_data.gross.max()].movie_title)\n",
    "print(\"\\n\")\n",
    "print(\"Movies which have minimum gross income?\")\n",
    "main_data[main_data.gross == main_data.gross.min()].movie_title"
   ]
  },
  {
   "cell_type": "code",
   "execution_count": 252,
   "metadata": {
    "collapsed": false
   },
   "outputs": [
    {
     "data": {
      "text/plain": [
       "<matplotlib.axes._subplots.AxesSubplot at 0x1cbd646d080>"
      ]
     },
     "execution_count": 252,
     "metadata": {},
     "output_type": "execute_result"
    },
    {
     "data": {
      "image/png": "[encoded data removed]",
      "text/plain": [
       "<matplotlib.figure.Figure at 0x1cbd64851d0>"
      ]
     },
     "metadata": {},
     "output_type": "display_data"
    }
   ],
   "source": [
    "main_data.plot(kind='scatter', y='gross', x='imdb_score')\n",
    "print(\"Higest gross income movies have high imdb scores\")"
   ]
  },
  {
   "cell_type": "code",
   "execution_count": 22,
   "metadata": {
    "collapsed": false
   },
   "outputs": [
    {
     "name": "stdout",
     "output_type": "stream",
     "text": [
      "which movie has max number voted_users?\n",
      "1937    The Shawshank Redemption \n",
      "Name: movie_title, dtype: object\n",
      "\n",
      "\n",
      "which movies has minimum number voted_users?\n"
     ]
    },
    {
     "data": {
      "text/plain": [
       "4702      The Hadza: Last of the First \n",
       "4958    Over the Hill to the Poorhouse \n",
       "Name: movie_title, dtype: object"
      ]
     },
     "execution_count": 22,
     "metadata": {},
     "output_type": "execute_result"
    }
   ],
   "source": [
    "print(\"which movie has max number voted_users?\")\n",
    "print(main_data[main_data.num_voted_users == main_data.num_voted_users.max()].movie_title)\n",
    "print(\"\\n\")\n",
    "print(\"which movies has minimum number voted_users?\")\n",
    "main_data[main_data.num_voted_users == main_data.num_voted_users.min()].movie_title"
   ]
  },
  {
   "cell_type": "code",
   "execution_count": 23,
   "metadata": {
    "collapsed": false
   },
   "outputs": [
    {
     "name": "stdout",
     "output_type": "stream",
     "text": [
      "which movie cast has maximum facebook likes?\n",
      "1902    Anchorman: The Legend of Ron Burgundy \n",
      "Name: movie_title, dtype: object\n",
      "\n",
      "\n",
      "which movie cast has minimum facebook likes?\n"
     ]
    },
    {
     "data": {
      "text/plain": [
       "2241     Yu-Gi-Oh! Duel Monsters             \n",
       "3346                             All Is Lost \n",
       "4368                 Travelers and Magicians \n",
       "4416                         The Gatekeepers \n",
       "4439    Wal-Mart: The High Cost of Low Price \n",
       "Name: movie_title, dtype: object"
      ]
     },
     "execution_count": 23,
     "metadata": {},
     "output_type": "execute_result"
    }
   ],
   "source": [
    "print(\"which movie cast has maximum facebook likes?\")\n",
    "print(main_data[main_data.cast_total_facebook_likes == main_data.cast_total_facebook_likes.max()].movie_title)\n",
    "print(\"\\n\")\n",
    "print(\"which movie cast has minimum facebook likes?\")\n",
    "main_data[main_data.cast_total_facebook_likes == main_data.cast_total_facebook_likes.min()].movie_title.head()"
   ]
  },
  {
   "cell_type": "code",
   "execution_count": 24,
   "metadata": {
    "collapsed": false
   },
   "outputs": [
    {
     "name": "stdout",
     "output_type": "stream",
     "text": [
      "which movie poster has maximum number of faces?\n",
      "3468    500 Days of Summer \n",
      "Name: movie_title, dtype: object\n",
      "\n",
      "\n",
      "which movie poster has minimum number of faces?\n"
     ]
    },
    {
     "data": {
      "text/plain": [
       "0                                              Avatar \n",
       "1            Pirates of the Caribbean: At World's End \n",
       "3                               The Dark Knight Rises \n",
       "4    Star Wars: Episode VII - The Force Awakens    ...\n",
       "6                                        Spider-Man 3 \n",
       "Name: movie_title, dtype: object"
      ]
     },
     "execution_count": 24,
     "metadata": {},
     "output_type": "execute_result"
    }
   ],
   "source": [
    "print(\"which movie poster has maximum number of faces?\")\n",
    "print(main_data[main_data.facenumber_in_poster == main_data.facenumber_in_poster.max()].movie_title)\n",
    "print(\"\\n\")\n",
    "print(\"which movie poster has minimum number of faces?\")\n",
    "main_data[main_data.facenumber_in_poster == main_data.facenumber_in_poster.min()].movie_title.head()"
   ]
  },
  {
   "cell_type": "code",
   "execution_count": 25,
   "metadata": {
    "collapsed": false
   },
   "outputs": [
    {
     "name": "stdout",
     "output_type": "stream",
     "text": [
      "which movie has maximum number of reviews?\n",
      "270    The Lord of the Rings: The Fellowship of the R...\n",
      "Name: movie_title, dtype: object\n",
      "\n",
      "\n",
      "which movie has minimum number of reviews?\n"
     ]
    },
    {
     "data": {
      "text/plain": [
       "367            Ben-Hur \n",
       "507     Top Cat Begins \n",
       "2349         Ramanujan \n",
       "2351    Hands of Stone \n",
       "2613           Ben-Hur \n",
       "Name: movie_title, dtype: object"
      ]
     },
     "execution_count": 25,
     "metadata": {},
     "output_type": "execute_result"
    }
   ],
   "source": [
    "print(\"which movie has maximum number of reviews?\")\n",
    "print(main_data[main_data.num_user_for_reviews == main_data.num_user_for_reviews.max()].movie_title)\n",
    "print(\"\\n\")\n",
    "print(\"which movie has minimum number of reviews?\")\n",
    "main_data[main_data.num_user_for_reviews == main_data.num_user_for_reviews.min()].movie_title.head()"
   ]
  },
  {
   "cell_type": "code",
   "execution_count": 26,
   "metadata": {
    "collapsed": false
   },
   "outputs": [
    {
     "name": "stdout",
     "output_type": "stream",
     "text": [
      "List top 5 movie makers according to language?\n"
     ]
    },
    {
     "data": {
      "text/plain": [
       "English     4704\n",
       "French        73\n",
       "Spanish       40\n",
       "Hindi         28\n",
       "Mandarin      26\n",
       "Name: language, dtype: int64"
      ]
     },
     "execution_count": 26,
     "metadata": {},
     "output_type": "execute_result"
    }
   ],
   "source": [
    "print(\"List top 5 movie makers according to language?\")\n",
    "main_data.language.value_counts().head()"
   ]
  },
  {
   "cell_type": "code",
   "execution_count": 27,
   "metadata": {
    "collapsed": false
   },
   "outputs": [
    {
     "name": "stdout",
     "output_type": "stream",
     "text": [
      "Which country produces maximum number of films?\n"
     ]
    },
    {
     "data": {
      "text/plain": [
       "USA          3807\n",
       "UK            448\n",
       "France        154\n",
       "Canada        126\n",
       "Germany        97\n",
       "Australia      55\n",
       "India          34\n",
       "Spain          33\n",
       "China          30\n",
       "Italy          23\n",
       "Name: country, dtype: int64"
      ]
     },
     "execution_count": 27,
     "metadata": {},
     "output_type": "execute_result"
    }
   ],
   "source": [
    "print(\"Which country produces maximum number of films?\")\n",
    "main_data.country.value_counts().head(10)"
   ]
  },
  {
   "cell_type": "code",
   "execution_count": 28,
   "metadata": {
    "collapsed": false
   },
   "outputs": [
    {
     "name": "stdout",
     "output_type": "stream",
     "text": [
      " R is given to maximum moves as content rating, almost half\n"
     ]
    },
    {
     "data": {
      "text/plain": [
       "R            2118\n",
       "PG-13        1461\n",
       "PG            701\n",
       "Not Rated     116\n",
       "G             112\n",
       "Name: content_rating, dtype: int64"
      ]
     },
     "execution_count": 28,
     "metadata": {},
     "output_type": "execute_result"
    }
   ],
   "source": [
    "print(\" R is given to maximum moves as content rating, almost half\")\n",
    "main_data.content_rating.value_counts().head()"
   ]
  },
  {
   "cell_type": "code",
   "execution_count": 29,
   "metadata": {
    "collapsed": false
   },
   "outputs": [
    {
     "name": "stdout",
     "output_type": "stream",
     "text": [
      "Which is the higest budget movie till date?\n",
      " 2988    The Host \n",
      "Name: movie_title, dtype: object\n",
      "\n",
      " Which is the lowt budget movie till date?\n"
     ]
    },
    {
     "data": {
      "text/plain": [
       "4799    Tarnation \n",
       "Name: movie_title, dtype: object"
      ]
     },
     "execution_count": 29,
     "metadata": {},
     "output_type": "execute_result"
    }
   ],
   "source": [
    "print(\"Which is the higest budget movie till date?\\n\", main_data[main_data.budget == main_data.budget.max()].movie_title)\n",
    "print(\"\\n Which is the lowt budget movie till date?\")\n",
    "main_data[main_data.budget == main_data.budget.min()].movie_title"
   ]
  },
  {
   "cell_type": "code",
   "execution_count": 30,
   "metadata": {
    "collapsed": false
   },
   "outputs": [
    {
     "name": "stdout",
     "output_type": "stream",
     "text": [
      "Which year produced maximum number of movies?\n",
      "2009.0    260\n",
      "2014.0    252\n",
      "2006.0    239\n",
      "2013.0    237\n",
      "2010.0    230\n",
      "Name: title_year, dtype: int64\n"
     ]
    }
   ],
   "source": [
    "print(\"Which year produced maximum number of movies?\")\n",
    "print(main_data.title_year.value_counts().head())"
   ]
  },
  {
   "cell_type": "code",
   "execution_count": 265,
   "metadata": {
    "collapsed": false
   },
   "outputs": [
    {
     "name": "stdout",
     "output_type": "stream",
     "text": [
      "Maximum number of films where released in 20th century\n"
     ]
    },
    {
     "data": {
      "image/png": "[encoded data removed]",
      "text/plain": [
       "<matplotlib.figure.Figure at 0x1cbd6c6b0f0>"
      ]
     },
     "metadata": {},
     "output_type": "display_data"
    }
   ],
   "source": [
    "plt.hist(main_data.title_year.dropna(),bins=10)\n",
    "print(\"Maximum number of films where released in 20th century\")"
   ]
  },
  {
   "cell_type": "code",
   "execution_count": 273,
   "metadata": {
    "collapsed": false
   },
   "outputs": [
    {
     "data": {
      "text/plain": [
       "<matplotlib.text.Text at 0x1cbd6d4ceb8>"
      ]
     },
     "execution_count": 273,
     "metadata": {},
     "output_type": "execute_result"
    },
    {
     "data": {
      "image/png": "[encoded data removed]",
      "text/plain": [
       "<matplotlib.figure.Figure at 0x1cbd6016978>"
      ]
     },
     "metadata": {},
     "output_type": "display_data"
    }
   ],
   "source": [
    "plt.bar(main_data.imdb_score, main_data.movie_facebook_likes, align='center', alpha=0.5)\n",
    "plt.xticks(main_data.imdb_score, main_data.country)\n",
    "plt.ylabel('Movie facebook likes')\n",
    "plt.title('Countries')"
   ]
  },
  {
   "cell_type": "code",
   "execution_count": 31,
   "metadata": {
    "collapsed": false
   },
   "outputs": [
    {
     "name": "stdout",
     "output_type": "stream",
     "text": [
      "\n",
      " Which movie has the lowest aspect ratio?\n",
      "2363    Back to the Future \n",
      "Name: movie_title, dtype: object\n",
      "Which movie has the higest aspect ratio?\n"
     ]
    },
    {
     "data": {
      "text/plain": [
       "459            Daredevil             \n",
       "537          Constantine             \n",
       "593        Sleepy Hollow             \n",
       "645    Last Man Standing             \n",
       "833     Anger Management             \n",
       "Name: movie_title, dtype: object"
      ]
     },
     "execution_count": 31,
     "metadata": {},
     "output_type": "execute_result"
    }
   ],
   "source": [
    "print(\"\\n Which movie has the lowest aspect ratio?\")\n",
    "print(main_data[main_data.aspect_ratio == main_data.aspect_ratio.min()].movie_title)\n",
    "print(\"Which movie has the higest aspect ratio?\")\n",
    "main_data[main_data.aspect_ratio == main_data.aspect_ratio.max()].movie_title.head()"
   ]
  },
  {
   "cell_type": "code",
   "execution_count": 32,
   "metadata": {
    "collapsed": false
   },
   "outputs": [
    {
     "name": "stdout",
     "output_type": "stream",
     "text": [
      "\n",
      " Which movie has the lowest imdb_score?\n",
      "2834    Justin Bieber: Never Say Never \n",
      "Name: movie_title, dtype: object\n",
      "Which movie has the higest imdb_score?\n"
     ]
    },
    {
     "data": {
      "text/plain": [
       "2765    Towering Inferno             \n",
       "Name: movie_title, dtype: object"
      ]
     },
     "execution_count": 32,
     "metadata": {},
     "output_type": "execute_result"
    }
   ],
   "source": [
    "print(\"\\n Which movie has the lowest imdb_score?\")\n",
    "print(main_data[main_data.imdb_score == main_data.imdb_score.min()].movie_title)\n",
    "print(\"Which movie has the higest imdb_score?\")\n",
    "main_data[main_data.imdb_score == main_data.imdb_score.max()].movie_title.head()"
   ]
  },
  {
   "cell_type": "code",
   "execution_count": 255,
   "metadata": {
    "collapsed": false
   },
   "outputs": [
    {
     "name": "stdout",
     "output_type": "stream",
     "text": [
      "Maximum number of movies have imdb scores between 6-7\n"
     ]
    },
    {
     "data": {
      "image/png": "[encoded data removed]",
      "text/plain": [
       "<matplotlib.figure.Figure at 0x1cbd6928198>"
      ]
     },
     "metadata": {},
     "output_type": "display_data"
    }
   ],
   "source": [
    "plt.hist(main_data.imdb_score,bins=10)\n",
    "print(\"Maximum number of movies have imdb scores between 6-7\")"
   ]
  },
  {
   "cell_type": "code",
   "execution_count": 123,
   "metadata": {
    "collapsed": false
   },
   "outputs": [
    {
     "name": "stderr",
     "output_type": "stream",
     "text": [
      "C:\\Users\\kulka\\Anaconda3\\lib\\site-packages\\pandas\\core\\generic.py:2773: SettingWithCopyWarning: \n",
      "A value is trying to be set on a copy of a slice from a DataFrame.\n",
      "Try using .loc[row_indexer,col_indexer] = value instead\n",
      "\n",
      "See the caveats in the documentation: http://pandas.pydata.org/pandas-docs/stable/indexing.html#indexing-view-versus-copy\n",
      "  self[name] = value\n",
      "C:\\Users\\kulka\\Anaconda3\\lib\\site-packages\\ipykernel\\__main__.py:23: SettingWithCopyWarning: \n",
      "A value is trying to be set on a copy of a slice from a DataFrame.\n",
      "Try using .loc[row_indexer,col_indexer] = value instead\n",
      "\n",
      "See the caveats in the documentation: http://pandas.pydata.org/pandas-docs/stable/indexing.html#indexing-view-versus-copy\n"
     ]
    }
   ],
   "source": [
    "from sklearn.preprocessing import LabelEncoder\n",
    "from sklearn.cross_validation import train_test_split\n",
    "le =LabelEncoder()\n",
    "X = data[['color', 'director_name', 'director_facebook_likes','num_critic_for_reviews', 'duration', 'actor_1_name','actor_1_facebook_likes', 'actor_2_name', 'actor_2_facebook_likes',\n",
    "       'actor_3_name', 'actor_3_facebook_likes', 'movie_facebook_likes','gross','num_voted_users','cast_total_facebook_likes', 'facenumber_in_poster', 'num_user_for_reviews', 'language', 'country',\n",
    "       'content_rating', 'budget', 'title_year', 'aspect_ratio','Fillms', 'type1', 'type2', 'type3', 'type4', 'type5', 'genre1',\n",
    "       'genre2', 'genre3', 'genre4', 'genre5', 'genre6', 'genre7', 'genre8']]\n",
    "X.type2 = X.type2.astype(str)\n",
    "X.type3 = X.type3.astype(str)\n",
    "X.type4 = X.type4.astype(str)\n",
    "X.type5 = X.type5.astype(str)\n",
    "X.genre2 = X.genre2.astype(str)\n",
    "X.genre3 = X.genre3.astype(str)\n",
    "X.genre4 = X.genre4.astype(str)\n",
    "X.genre5 = X.genre5.astype(str)\n",
    "X.genre6 = X.genre6.astype(str)\n",
    "X.genre7 = X.genre7.astype(str)\n",
    "X.genre8 = X.genre8.astype(str)\n",
    "y = data.imdb_score\n",
    "for i in X.columns:\n",
    "    if X[i].dtype == 'object':\n",
    "        le.fit(X[i])\n",
    "        X[i] = le.transform(X[i])\n",
    "\n",
    "X_train, X_test, y_train, y_test = train_test_split(X,y,test_size=0.2, random_state=0)"
   ]
  },
  {
   "cell_type": "code",
   "execution_count": 34,
   "metadata": {
    "collapsed": false
   },
   "outputs": [
    {
     "name": "stderr",
     "output_type": "stream",
     "text": [
      "C:\\Users\\kulka\\Anaconda3\\lib\\site-packages\\pandas\\core\\generic.py:2773: SettingWithCopyWarning: \n",
      "A value is trying to be set on a copy of a slice from a DataFrame.\n",
      "Try using .loc[row_indexer,col_indexer] = value instead\n",
      "\n",
      "See the caveats in the documentation: http://pandas.pydata.org/pandas-docs/stable/indexing.html#indexing-view-versus-copy\n",
      "  self[name] = value\n",
      "C:\\Users\\kulka\\Anaconda3\\lib\\site-packages\\ipykernel\\__main__.py:22: SettingWithCopyWarning: \n",
      "A value is trying to be set on a copy of a slice from a DataFrame.\n",
      "Try using .loc[row_indexer,col_indexer] = value instead\n",
      "\n",
      "See the caveats in the documentation: http://pandas.pydata.org/pandas-docs/stable/indexing.html#indexing-view-versus-copy\n"
     ]
    }
   ],
   "source": [
    "from sklearn.cross_validation import train_test_split\n",
    "le =LabelEncoder()\n",
    "K = data[['imdb_score','color', 'director_name', 'director_facebook_likes','num_critic_for_reviews', 'duration', 'actor_1_name','actor_1_facebook_likes', 'actor_2_name', 'actor_2_facebook_likes',\n",
    "       'actor_3_name', 'actor_3_facebook_likes', 'movie_facebook_likes','gross','num_voted_users','cast_total_facebook_likes', 'facenumber_in_poster', 'num_user_for_reviews', 'language', 'country',\n",
    "       'content_rating', 'budget', 'title_year', 'aspect_ratio','Fillms', 'type1', 'type2', 'type3', 'type4', 'type5', 'genre1',\n",
    "       'genre2', 'genre3', 'genre4', 'genre5', 'genre6', 'genre7', 'genre8']]\n",
    "K.type2 = K.type2.astype(str)\n",
    "K.type3 = K.type3.astype(str)\n",
    "K.type4 = K.type4.astype(str)\n",
    "K.type5 = K.type5.astype(str)\n",
    "K.genre2 = K.genre2.astype(str)\n",
    "K.genre3 = K.genre3.astype(str)\n",
    "K.genre4 = K.genre4.astype(str)\n",
    "K.genre5 = K.genre5.astype(str)\n",
    "K.genre6 = K.genre6.astype(str)\n",
    "K.genre7 = K.genre7.astype(str)\n",
    "K.genre8 = K.genre8.astype(str)\n",
    "\n",
    "for i in K.columns:\n",
    "    if K[i].dtype == 'object':\n",
    "        le.fit(K[i])\n",
    "        K[i] = le.transform(K[i])"
   ]
  },
  {
   "cell_type": "code",
   "execution_count": 55,
   "metadata": {
    "collapsed": false
   },
   "outputs": [],
   "source": [
    "import statsmodels.formula.api as smf\n",
    "# create a fitted model in one line\n",
    "#frmla = \"imdb_score ~ color + director_name + director_facebook_likes + num_critic_for_reviews + duration + actor_1_name + actor_1_facebook_likes + actor_2_name + actor_2_facebook_likes + \\\n",
    "#       actor_3_name + actor_3_facebook_likes + movie_facebook_likes + gross + num_voted_users + cast_total_facebook_likes + facenumber_in_poster + num_user_for_reviews + language + country + \\\n",
    "#       content_rating + budget + title_year + aspect_ratio + Fillms + type1 + type2 + type3 + type4 + type5 + genre1 + genre2 + genre3 + genre4 + genre5 + genre6 + genre7 + genre8\"\n",
    "frmla = \"imdb_score ~ color + num_critic_for_reviews + duration + actor_1_facebook_likes + actor_2_facebook_likes + \\\n",
    "       actor_3_facebook_likes + gross + num_voted_users + cast_total_facebook_likes + facenumber_in_poster + num_user_for_reviews + language + country + \\\n",
    "       content_rating + title_year + Fillms + type1 + genre1 + genre2\"\n",
    "\n",
    "lm = smf.ols(frmla, data=K).fit()"
   ]
  },
  {
   "cell_type": "code",
   "execution_count": 56,
   "metadata": {
    "collapsed": false
   },
   "outputs": [
    {
     "data": {
      "text/plain": [
       "Intercept                    4.989083e+01\n",
       "color                       -3.672275e-01\n",
       "num_critic_for_reviews       2.268685e-03\n",
       "duration                     9.112483e-03\n",
       "actor_1_facebook_likes       5.924679e-05\n",
       "actor_2_facebook_likes       6.149896e-05\n",
       "actor_3_facebook_likes       5.258275e-05\n",
       "gross                       -1.029399e-09\n",
       "num_voted_users              3.629794e-06\n",
       "cast_total_facebook_likes   -5.753680e-05\n",
       "facenumber_in_poster        -1.923800e-02\n",
       "num_user_for_reviews        -6.474799e-04\n",
       "language                     4.061473e-02\n",
       "country                     -6.546283e-03\n",
       "content_rating               2.666536e-02\n",
       "title_year                  -2.241614e-02\n",
       "Fillms                       7.025658e-03\n",
       "type1                       -3.945027e-05\n",
       "genre1                       4.774473e-02\n",
       "genre2                      -1.261914e-02\n",
       "dtype: float64"
      ]
     },
     "execution_count": 56,
     "metadata": {},
     "output_type": "execute_result"
    }
   ],
   "source": [
    "lm.params"
   ]
  },
  {
   "cell_type": "code",
   "execution_count": 57,
   "metadata": {
    "collapsed": false
   },
   "outputs": [
    {
     "data": {
      "text/html": [
       "<table class=\"simpletable\">\n",
       "<caption>OLS Regression Results</caption>\n",
       "<tr>\n",
       "  <th>Dep. Variable:</th>       <td>imdb_score</td>    <th>  R-squared:         </th> <td>   0.394</td>\n",
       "</tr>\n",
       "<tr>\n",
       "  <th>Model:</th>                   <td>OLS</td>       <th>  Adj. R-squared:    </th> <td>   0.391</td>\n",
       "</tr>\n",
       "<tr>\n",
       "  <th>Method:</th>             <td>Least Squares</td>  <th>  F-statistic:       </th> <td>   127.9</td>\n",
       "</tr>\n",
       "<tr>\n",
       "  <th>Date:</th>             <td>Fri, 10 Feb 2017</td> <th>  Prob (F-statistic):</th>  <td>  0.00</td> \n",
       "</tr>\n",
       "<tr>\n",
       "  <th>Time:</th>                 <td>00:18:34</td>     <th>  Log-Likelihood:    </th> <td> -4593.7</td>\n",
       "</tr>\n",
       "<tr>\n",
       "  <th>No. Observations:</th>      <td>  3756</td>      <th>  AIC:               </th> <td>   9227.</td>\n",
       "</tr>\n",
       "<tr>\n",
       "  <th>Df Residuals:</th>          <td>  3736</td>      <th>  BIC:               </th> <td>   9352.</td>\n",
       "</tr>\n",
       "<tr>\n",
       "  <th>Df Model:</th>              <td>    19</td>      <th>                     </th>     <td> </td>   \n",
       "</tr>\n",
       "<tr>\n",
       "  <th>Covariance Type:</th>      <td>nonrobust</td>    <th>                     </th>     <td> </td>   \n",
       "</tr>\n",
       "</table>\n",
       "<table class=\"simpletable\">\n",
       "<tr>\n",
       "              <td></td>                 <th>coef</th>     <th>std err</th>      <th>t</th>      <th>P>|t|</th> <th>[95.0% Conf. Int.]</th> \n",
       "</tr>\n",
       "<tr>\n",
       "  <th>Intercept</th>                 <td>   49.8908</td> <td>    3.330</td> <td>   14.980</td> <td> 0.000</td> <td>   43.361    56.420</td>\n",
       "</tr>\n",
       "<tr>\n",
       "  <th>color</th>                     <td>   -0.3672</td> <td>    0.077</td> <td>   -4.769</td> <td> 0.000</td> <td>   -0.518    -0.216</td>\n",
       "</tr>\n",
       "<tr>\n",
       "  <th>num_critic_for_reviews</th>    <td>    0.0023</td> <td>    0.000</td> <td>   13.778</td> <td> 0.000</td> <td>    0.002     0.003</td>\n",
       "</tr>\n",
       "<tr>\n",
       "  <th>duration</th>                  <td>    0.0091</td> <td>    0.001</td> <td>   13.645</td> <td> 0.000</td> <td>    0.008     0.010</td>\n",
       "</tr>\n",
       "<tr>\n",
       "  <th>actor_1_facebook_likes</th>    <td> 5.925e-05</td> <td> 1.27e-05</td> <td>    4.659</td> <td> 0.000</td> <td> 3.43e-05  8.42e-05</td>\n",
       "</tr>\n",
       "<tr>\n",
       "  <th>actor_2_facebook_likes</th>    <td>  6.15e-05</td> <td> 1.34e-05</td> <td>    4.601</td> <td> 0.000</td> <td> 3.53e-05  8.77e-05</td>\n",
       "</tr>\n",
       "<tr>\n",
       "  <th>actor_3_facebook_likes</th>    <td> 5.258e-05</td> <td> 2.09e-05</td> <td>    2.520</td> <td> 0.012</td> <td> 1.17e-05  9.35e-05</td>\n",
       "</tr>\n",
       "<tr>\n",
       "  <th>gross</th>                     <td>-1.029e-09</td> <td> 2.82e-10</td> <td>   -3.652</td> <td> 0.000</td> <td>-1.58e-09 -4.77e-10</td>\n",
       "</tr>\n",
       "<tr>\n",
       "  <th>num_voted_users</th>           <td>  3.63e-06</td> <td> 1.61e-07</td> <td>   22.555</td> <td> 0.000</td> <td> 3.31e-06  3.95e-06</td>\n",
       "</tr>\n",
       "<tr>\n",
       "  <th>cast_total_facebook_likes</th> <td>-5.754e-05</td> <td> 1.27e-05</td> <td>   -4.538</td> <td> 0.000</td> <td>-8.24e-05 -3.27e-05</td>\n",
       "</tr>\n",
       "<tr>\n",
       "  <th>facenumber_in_poster</th>      <td>   -0.0192</td> <td>    0.007</td> <td>   -2.856</td> <td> 0.004</td> <td>   -0.032    -0.006</td>\n",
       "</tr>\n",
       "<tr>\n",
       "  <th>num_user_for_reviews</th>      <td>   -0.0006</td> <td>  5.5e-05</td> <td>  -11.771</td> <td> 0.000</td> <td>   -0.001    -0.001</td>\n",
       "</tr>\n",
       "<tr>\n",
       "  <th>language</th>                  <td>    0.0406</td> <td>    0.006</td> <td>    7.136</td> <td> 0.000</td> <td>    0.029     0.052</td>\n",
       "</tr>\n",
       "<tr>\n",
       "  <th>country</th>                   <td>   -0.0065</td> <td>    0.001</td> <td>   -4.448</td> <td> 0.000</td> <td>   -0.009    -0.004</td>\n",
       "</tr>\n",
       "<tr>\n",
       "  <th>content_rating</th>            <td>    0.0267</td> <td>    0.009</td> <td>    3.038</td> <td> 0.002</td> <td>    0.009     0.044</td>\n",
       "</tr>\n",
       "<tr>\n",
       "  <th>title_year</th>                <td>   -0.0224</td> <td>    0.002</td> <td>  -13.434</td> <td> 0.000</td> <td>   -0.026    -0.019</td>\n",
       "</tr>\n",
       "<tr>\n",
       "  <th>Fillms</th>                    <td>    0.0070</td> <td>    0.003</td> <td>    2.121</td> <td> 0.034</td> <td>    0.001     0.014</td>\n",
       "</tr>\n",
       "<tr>\n",
       "  <th>type1</th>                     <td>-3.945e-05</td> <td> 2.95e-05</td> <td>   -1.338</td> <td> 0.181</td> <td>-9.73e-05  1.84e-05</td>\n",
       "</tr>\n",
       "<tr>\n",
       "  <th>genre1</th>                    <td>    0.0477</td> <td>    0.006</td> <td>    7.815</td> <td> 0.000</td> <td>    0.036     0.060</td>\n",
       "</tr>\n",
       "<tr>\n",
       "  <th>genre2</th>                    <td>   -0.0126</td> <td>    0.003</td> <td>   -4.148</td> <td> 0.000</td> <td>   -0.019    -0.007</td>\n",
       "</tr>\n",
       "</table>\n",
       "<table class=\"simpletable\">\n",
       "<tr>\n",
       "  <th>Omnibus:</th>       <td>542.243</td> <th>  Durbin-Watson:     </th> <td>   1.910</td> \n",
       "</tr>\n",
       "<tr>\n",
       "  <th>Prob(Omnibus):</th> <td> 0.000</td>  <th>  Jarque-Bera (JB):  </th> <td>1065.107</td> \n",
       "</tr>\n",
       "<tr>\n",
       "  <th>Skew:</th>          <td>-0.892</td>  <th>  Prob(JB):          </th> <td>5.19e-232</td>\n",
       "</tr>\n",
       "<tr>\n",
       "  <th>Kurtosis:</th>      <td> 4.904</td>  <th>  Cond. No.          </th> <td>2.17e+10</td> \n",
       "</tr>\n",
       "</table>"
      ],
      "text/plain": [
       "<class 'statsmodels.iolib.summary.Summary'>\n",
       "\"\"\"\n",
       "                            OLS Regression Results                            \n",
       "==============================================================================\n",
       "Dep. Variable:             imdb_score   R-squared:                       0.394\n",
       "Model:                            OLS   Adj. R-squared:                  0.391\n",
       "Method:                 Least Squares   F-statistic:                     127.9\n",
       "Date:                Fri, 10 Feb 2017   Prob (F-statistic):               0.00\n",
       "Time:                        00:18:34   Log-Likelihood:                -4593.7\n",
       "No. Observations:                3756   AIC:                             9227.\n",
       "Df Residuals:                    3736   BIC:                             9352.\n",
       "Df Model:                          19                                         \n",
       "Covariance Type:            nonrobust                                         \n",
       "=============================================================================================\n",
       "                                coef    std err          t      P>|t|      [95.0% Conf. Int.]\n",
       "---------------------------------------------------------------------------------------------\n",
       "Intercept                    49.8908      3.330     14.980      0.000        43.361    56.420\n",
       "color                        -0.3672      0.077     -4.769      0.000        -0.518    -0.216\n",
       "num_critic_for_reviews        0.0023      0.000     13.778      0.000         0.002     0.003\n",
       "duration                      0.0091      0.001     13.645      0.000         0.008     0.010\n",
       "actor_1_facebook_likes     5.925e-05   1.27e-05      4.659      0.000      3.43e-05  8.42e-05\n",
       "actor_2_facebook_likes      6.15e-05   1.34e-05      4.601      0.000      3.53e-05  8.77e-05\n",
       "actor_3_facebook_likes     5.258e-05   2.09e-05      2.520      0.012      1.17e-05  9.35e-05\n",
       "gross                     -1.029e-09   2.82e-10     -3.652      0.000     -1.58e-09 -4.77e-10\n",
       "num_voted_users             3.63e-06   1.61e-07     22.555      0.000      3.31e-06  3.95e-06\n",
       "cast_total_facebook_likes -5.754e-05   1.27e-05     -4.538      0.000     -8.24e-05 -3.27e-05\n",
       "facenumber_in_poster         -0.0192      0.007     -2.856      0.004        -0.032    -0.006\n",
       "num_user_for_reviews         -0.0006    5.5e-05    -11.771      0.000        -0.001    -0.001\n",
       "language                      0.0406      0.006      7.136      0.000         0.029     0.052\n",
       "country                      -0.0065      0.001     -4.448      0.000        -0.009    -0.004\n",
       "content_rating                0.0267      0.009      3.038      0.002         0.009     0.044\n",
       "title_year                   -0.0224      0.002    -13.434      0.000        -0.026    -0.019\n",
       "Fillms                        0.0070      0.003      2.121      0.034         0.001     0.014\n",
       "type1                     -3.945e-05   2.95e-05     -1.338      0.181     -9.73e-05  1.84e-05\n",
       "genre1                        0.0477      0.006      7.815      0.000         0.036     0.060\n",
       "genre2                       -0.0126      0.003     -4.148      0.000        -0.019    -0.007\n",
       "==============================================================================\n",
       "Omnibus:                      542.243   Durbin-Watson:                   1.910\n",
       "Prob(Omnibus):                  0.000   Jarque-Bera (JB):             1065.107\n",
       "Skew:                          -0.892   Prob(JB):                    5.19e-232\n",
       "Kurtosis:                       4.904   Cond. No.                     2.17e+10\n",
       "==============================================================================\n",
       "\n",
       "Warnings:\n",
       "[1] Standard Errors assume that the covariance matrix of the errors is correctly specified.\n",
       "[2] The condition number is large, 2.17e+10. This might indicate that there are\n",
       "strong multicollinearity or other numerical problems.\n",
       "\"\"\""
      ]
     },
     "execution_count": 57,
     "metadata": {},
     "output_type": "execute_result"
    }
   ],
   "source": [
    "lm.summary()"
   ]
  },
  {
   "cell_type": "code",
   "execution_count": 65,
   "metadata": {
    "collapsed": false
   },
   "outputs": [
    {
     "name": "stdout",
     "output_type": "stream",
     "text": [
      "Most of the variables look highly correlated, so their exists a multi-colinearity problem \n",
      " This data need variable transformations\n"
     ]
    },
    {
     "data": {
      "text/html": [
       "<div>\n",
       "<table border=\"1\" class=\"dataframe\">\n",
       "  <thead>\n",
       "    <tr style=\"text-align: right;\">\n",
       "      <th></th>\n",
       "      <th>0</th>\n",
       "      <th>1</th>\n",
       "      <th>2</th>\n",
       "      <th>3</th>\n",
       "      <th>4</th>\n",
       "      <th>5</th>\n",
       "      <th>6</th>\n",
       "      <th>7</th>\n",
       "      <th>8</th>\n",
       "      <th>9</th>\n",
       "      <th>...</th>\n",
       "      <th>3746</th>\n",
       "      <th>3747</th>\n",
       "      <th>3748</th>\n",
       "      <th>3749</th>\n",
       "      <th>3750</th>\n",
       "      <th>3751</th>\n",
       "      <th>3752</th>\n",
       "      <th>3753</th>\n",
       "      <th>3754</th>\n",
       "      <th>3755</th>\n",
       "    </tr>\n",
       "  </thead>\n",
       "  <tbody>\n",
       "    <tr>\n",
       "      <th>0</th>\n",
       "      <td>1.000000</td>\n",
       "      <td>0.887605</td>\n",
       "      <td>0.826534</td>\n",
       "      <td>0.977866</td>\n",
       "      <td>0.522220</td>\n",
       "      <td>0.936023</td>\n",
       "      <td>0.810522</td>\n",
       "      <td>0.979978</td>\n",
       "      <td>0.921793</td>\n",
       "      <td>0.938209</td>\n",
       "      <td>...</td>\n",
       "      <td>0.971429</td>\n",
       "      <td>0.956543</td>\n",
       "      <td>0.540403</td>\n",
       "      <td>0.959220</td>\n",
       "      <td>0.964129</td>\n",
       "      <td>0.961941</td>\n",
       "      <td>0.958175</td>\n",
       "      <td>0.942648</td>\n",
       "      <td>0.954530</td>\n",
       "      <td>0.955047</td>\n",
       "    </tr>\n",
       "    <tr>\n",
       "      <th>1</th>\n",
       "      <td>0.887605</td>\n",
       "      <td>1.000000</td>\n",
       "      <td>0.992905</td>\n",
       "      <td>0.964331</td>\n",
       "      <td>0.856335</td>\n",
       "      <td>0.992924</td>\n",
       "      <td>0.989204</td>\n",
       "      <td>0.961542</td>\n",
       "      <td>0.996757</td>\n",
       "      <td>0.992160</td>\n",
       "      <td>...</td>\n",
       "      <td>0.756065</td>\n",
       "      <td>0.714732</td>\n",
       "      <td>0.867221</td>\n",
       "      <td>0.721319</td>\n",
       "      <td>0.741015</td>\n",
       "      <td>0.728980</td>\n",
       "      <td>0.718704</td>\n",
       "      <td>0.704971</td>\n",
       "      <td>0.710392</td>\n",
       "      <td>0.713698</td>\n",
       "    </tr>\n",
       "    <tr>\n",
       "      <th>2</th>\n",
       "      <td>0.826534</td>\n",
       "      <td>0.992905</td>\n",
       "      <td>1.000000</td>\n",
       "      <td>0.926012</td>\n",
       "      <td>0.911668</td>\n",
       "      <td>0.971757</td>\n",
       "      <td>0.999611</td>\n",
       "      <td>0.922060</td>\n",
       "      <td>0.980115</td>\n",
       "      <td>0.970259</td>\n",
       "      <td>...</td>\n",
       "      <td>0.673151</td>\n",
       "      <td>0.626493</td>\n",
       "      <td>0.920278</td>\n",
       "      <td>0.633851</td>\n",
       "      <td>0.656637</td>\n",
       "      <td>0.642506</td>\n",
       "      <td>0.630925</td>\n",
       "      <td>0.618134</td>\n",
       "      <td>0.621705</td>\n",
       "      <td>0.625609</td>\n",
       "    </tr>\n",
       "    <tr>\n",
       "      <th>3</th>\n",
       "      <td>0.977866</td>\n",
       "      <td>0.964331</td>\n",
       "      <td>0.926012</td>\n",
       "      <td>1.000000</td>\n",
       "      <td>0.689094</td>\n",
       "      <td>0.988940</td>\n",
       "      <td>0.915129</td>\n",
       "      <td>0.999946</td>\n",
       "      <td>0.982504</td>\n",
       "      <td>0.989850</td>\n",
       "      <td>...</td>\n",
       "      <td>0.901757</td>\n",
       "      <td>0.874369</td>\n",
       "      <td>0.704489</td>\n",
       "      <td>0.878908</td>\n",
       "      <td>0.890762</td>\n",
       "      <td>0.883966</td>\n",
       "      <td>0.877114</td>\n",
       "      <td>0.862140</td>\n",
       "      <td>0.871264</td>\n",
       "      <td>0.873087</td>\n",
       "    </tr>\n",
       "    <tr>\n",
       "      <th>4</th>\n",
       "      <td>0.522220</td>\n",
       "      <td>0.856335</td>\n",
       "      <td>0.911668</td>\n",
       "      <td>0.689094</td>\n",
       "      <td>1.000000</td>\n",
       "      <td>0.788948</td>\n",
       "      <td>0.922769</td>\n",
       "      <td>0.681564</td>\n",
       "      <td>0.811998</td>\n",
       "      <td>0.785083</td>\n",
       "      <td>...</td>\n",
       "      <td>0.310707</td>\n",
       "      <td>0.250869</td>\n",
       "      <td>0.999770</td>\n",
       "      <td>0.260065</td>\n",
       "      <td>0.291027</td>\n",
       "      <td>0.271196</td>\n",
       "      <td>0.256394</td>\n",
       "      <td>0.248381</td>\n",
       "      <td>0.245092</td>\n",
       "      <td>0.250634</td>\n",
       "    </tr>\n",
       "    <tr>\n",
       "      <th>5</th>\n",
       "      <td>0.936023</td>\n",
       "      <td>0.992924</td>\n",
       "      <td>0.971757</td>\n",
       "      <td>0.988940</td>\n",
       "      <td>0.788948</td>\n",
       "      <td>1.000000</td>\n",
       "      <td>0.964801</td>\n",
       "      <td>0.987355</td>\n",
       "      <td>0.999260</td>\n",
       "      <td>0.999980</td>\n",
       "      <td>...</td>\n",
       "      <td>0.828137</td>\n",
       "      <td>0.792730</td>\n",
       "      <td>0.801954</td>\n",
       "      <td>0.798451</td>\n",
       "      <td>0.814748</td>\n",
       "      <td>0.805002</td>\n",
       "      <td>0.796185</td>\n",
       "      <td>0.781652</td>\n",
       "      <td>0.788890</td>\n",
       "      <td>0.791544</td>\n",
       "    </tr>\n",
       "    <tr>\n",
       "      <th>6</th>\n",
       "      <td>0.810522</td>\n",
       "      <td>0.989204</td>\n",
       "      <td>0.999611</td>\n",
       "      <td>0.915129</td>\n",
       "      <td>0.922769</td>\n",
       "      <td>0.964801</td>\n",
       "      <td>1.000000</td>\n",
       "      <td>0.910912</td>\n",
       "      <td>0.974202</td>\n",
       "      <td>0.963134</td>\n",
       "      <td>...</td>\n",
       "      <td>0.652338</td>\n",
       "      <td>0.604522</td>\n",
       "      <td>0.930827</td>\n",
       "      <td>0.612046</td>\n",
       "      <td>0.635518</td>\n",
       "      <td>0.620919</td>\n",
       "      <td>0.609054</td>\n",
       "      <td>0.596513</td>\n",
       "      <td>0.599642</td>\n",
       "      <td>0.603679</td>\n",
       "    </tr>\n",
       "    <tr>\n",
       "      <th>7</th>\n",
       "      <td>0.979978</td>\n",
       "      <td>0.961542</td>\n",
       "      <td>0.922060</td>\n",
       "      <td>0.999946</td>\n",
       "      <td>0.681564</td>\n",
       "      <td>0.987355</td>\n",
       "      <td>0.910912</td>\n",
       "      <td>1.000000</td>\n",
       "      <td>0.980527</td>\n",
       "      <td>0.988329</td>\n",
       "      <td>...</td>\n",
       "      <td>0.906065</td>\n",
       "      <td>0.879336</td>\n",
       "      <td>0.697112</td>\n",
       "      <td>0.883778</td>\n",
       "      <td>0.895198</td>\n",
       "      <td>0.888708</td>\n",
       "      <td>0.882026</td>\n",
       "      <td>0.866796</td>\n",
       "      <td>0.876254</td>\n",
       "      <td>0.877986</td>\n",
       "    </tr>\n",
       "    <tr>\n",
       "      <th>8</th>\n",
       "      <td>0.921793</td>\n",
       "      <td>0.996757</td>\n",
       "      <td>0.980115</td>\n",
       "      <td>0.982504</td>\n",
       "      <td>0.811998</td>\n",
       "      <td>0.999260</td>\n",
       "      <td>0.974202</td>\n",
       "      <td>0.980527</td>\n",
       "      <td>1.000000</td>\n",
       "      <td>0.998999</td>\n",
       "      <td>...</td>\n",
       "      <td>0.806070</td>\n",
       "      <td>0.768696</td>\n",
       "      <td>0.824338</td>\n",
       "      <td>0.774706</td>\n",
       "      <td>0.792118</td>\n",
       "      <td>0.781625</td>\n",
       "      <td>0.772324</td>\n",
       "      <td>0.758004</td>\n",
       "      <td>0.764686</td>\n",
       "      <td>0.767552</td>\n",
       "    </tr>\n",
       "    <tr>\n",
       "      <th>9</th>\n",
       "      <td>0.938209</td>\n",
       "      <td>0.992160</td>\n",
       "      <td>0.970259</td>\n",
       "      <td>0.989850</td>\n",
       "      <td>0.785083</td>\n",
       "      <td>0.999980</td>\n",
       "      <td>0.963134</td>\n",
       "      <td>0.988329</td>\n",
       "      <td>0.998999</td>\n",
       "      <td>1.000000</td>\n",
       "      <td>...</td>\n",
       "      <td>0.831613</td>\n",
       "      <td>0.796533</td>\n",
       "      <td>0.798196</td>\n",
       "      <td>0.802207</td>\n",
       "      <td>0.818316</td>\n",
       "      <td>0.808695</td>\n",
       "      <td>0.799959</td>\n",
       "      <td>0.785410</td>\n",
       "      <td>0.792720</td>\n",
       "      <td>0.795341</td>\n",
       "    </tr>\n",
       "    <tr>\n",
       "      <th>10</th>\n",
       "      <td>0.869326</td>\n",
       "      <td>0.999267</td>\n",
       "      <td>0.996728</td>\n",
       "      <td>0.953493</td>\n",
       "      <td>0.875472</td>\n",
       "      <td>0.987651</td>\n",
       "      <td>0.994088</td>\n",
       "      <td>0.950327</td>\n",
       "      <td>0.992946</td>\n",
       "      <td>0.986650</td>\n",
       "      <td>...</td>\n",
       "      <td>0.730541</td>\n",
       "      <td>0.687441</td>\n",
       "      <td>0.885642</td>\n",
       "      <td>0.694284</td>\n",
       "      <td>0.714991</td>\n",
       "      <td>0.702274</td>\n",
       "      <td>0.691566</td>\n",
       "      <td>0.678080</td>\n",
       "      <td>0.682946</td>\n",
       "      <td>0.686445</td>\n",
       "    </tr>\n",
       "    <tr>\n",
       "      <th>11</th>\n",
       "      <td>0.835073</td>\n",
       "      <td>0.994612</td>\n",
       "      <td>0.999882</td>\n",
       "      <td>0.931695</td>\n",
       "      <td>0.905256</td>\n",
       "      <td>0.975263</td>\n",
       "      <td>0.999066</td>\n",
       "      <td>0.927889</td>\n",
       "      <td>0.983044</td>\n",
       "      <td>0.973859</td>\n",
       "      <td>...</td>\n",
       "      <td>0.684407</td>\n",
       "      <td>0.638378</td>\n",
       "      <td>0.914167</td>\n",
       "      <td>0.645645</td>\n",
       "      <td>0.668082</td>\n",
       "      <td>0.654185</td>\n",
       "      <td>0.642756</td>\n",
       "      <td>0.629883</td>\n",
       "      <td>0.633653</td>\n",
       "      <td>0.637490</td>\n",
       "    </tr>\n",
       "    <tr>\n",
       "      <th>12</th>\n",
       "      <td>0.981948</td>\n",
       "      <td>0.958706</td>\n",
       "      <td>0.918084</td>\n",
       "      <td>0.999789</td>\n",
       "      <td>0.674103</td>\n",
       "      <td>0.985695</td>\n",
       "      <td>0.906678</td>\n",
       "      <td>0.999948</td>\n",
       "      <td>0.978483</td>\n",
       "      <td>0.986732</td>\n",
       "      <td>...</td>\n",
       "      <td>0.910286</td>\n",
       "      <td>0.884124</td>\n",
       "      <td>0.689801</td>\n",
       "      <td>0.888481</td>\n",
       "      <td>0.899597</td>\n",
       "      <td>0.893306</td>\n",
       "      <td>0.886763</td>\n",
       "      <td>0.871527</td>\n",
       "      <td>0.881097</td>\n",
       "      <td>0.882773</td>\n",
       "    </tr>\n",
       "    <tr>\n",
       "      <th>13</th>\n",
       "      <td>0.624773</td>\n",
       "      <td>0.914195</td>\n",
       "      <td>0.955901</td>\n",
       "      <td>0.774311</td>\n",
       "      <td>0.992149</td>\n",
       "      <td>0.859598</td>\n",
       "      <td>0.963717</td>\n",
       "      <td>0.767727</td>\n",
       "      <td>0.878616</td>\n",
       "      <td>0.856380</td>\n",
       "      <td>...</td>\n",
       "      <td>0.426922</td>\n",
       "      <td>0.369960</td>\n",
       "      <td>0.994605</td>\n",
       "      <td>0.378771</td>\n",
       "      <td>0.407830</td>\n",
       "      <td>0.389360</td>\n",
       "      <td>0.375257</td>\n",
       "      <td>0.365631</td>\n",
       "      <td>0.364373</td>\n",
       "      <td>0.369520</td>\n",
       "    </tr>\n",
       "    <tr>\n",
       "      <th>14</th>\n",
       "      <td>0.934543</td>\n",
       "      <td>0.993411</td>\n",
       "      <td>0.972735</td>\n",
       "      <td>0.988313</td>\n",
       "      <td>0.791509</td>\n",
       "      <td>0.999991</td>\n",
       "      <td>0.965892</td>\n",
       "      <td>0.986684</td>\n",
       "      <td>0.999412</td>\n",
       "      <td>0.999945</td>\n",
       "      <td>...</td>\n",
       "      <td>0.825832</td>\n",
       "      <td>0.790177</td>\n",
       "      <td>0.804444</td>\n",
       "      <td>0.795935</td>\n",
       "      <td>0.812401</td>\n",
       "      <td>0.802534</td>\n",
       "      <td>0.793652</td>\n",
       "      <td>0.779252</td>\n",
       "      <td>0.786331</td>\n",
       "      <td>0.789022</td>\n",
       "    </tr>\n",
       "    <tr>\n",
       "      <th>15</th>\n",
       "      <td>0.749095</td>\n",
       "      <td>0.970034</td>\n",
       "      <td>0.992044</td>\n",
       "      <td>0.871121</td>\n",
       "      <td>0.956147</td>\n",
       "      <td>0.934317</td>\n",
       "      <td>0.995168</td>\n",
       "      <td>0.865997</td>\n",
       "      <td>0.947336</td>\n",
       "      <td>0.932065</td>\n",
       "      <td>...</td>\n",
       "      <td>0.574956</td>\n",
       "      <td>0.523385</td>\n",
       "      <td>0.962213</td>\n",
       "      <td>0.531443</td>\n",
       "      <td>0.557147</td>\n",
       "      <td>0.541019</td>\n",
       "      <td>0.528235</td>\n",
       "      <td>0.516606</td>\n",
       "      <td>0.518196</td>\n",
       "      <td>0.522669</td>\n",
       "    </tr>\n",
       "    <tr>\n",
       "      <th>16</th>\n",
       "      <td>0.999285</td>\n",
       "      <td>0.904381</td>\n",
       "      <td>0.847221</td>\n",
       "      <td>0.985076</td>\n",
       "      <td>0.554083</td>\n",
       "      <td>0.948657</td>\n",
       "      <td>0.832083</td>\n",
       "      <td>0.986804</td>\n",
       "      <td>0.935789</td>\n",
       "      <td>0.950620</td>\n",
       "      <td>...</td>\n",
       "      <td>0.962042</td>\n",
       "      <td>0.944839</td>\n",
       "      <td>0.571823</td>\n",
       "      <td>0.947862</td>\n",
       "      <td>0.954057</td>\n",
       "      <td>0.951017</td>\n",
       "      <td>0.946678</td>\n",
       "      <td>0.931233</td>\n",
       "      <td>0.942625</td>\n",
       "      <td>0.943384</td>\n",
       "    </tr>\n",
       "    <tr>\n",
       "      <th>17</th>\n",
       "      <td>0.871164</td>\n",
       "      <td>0.999403</td>\n",
       "      <td>0.996420</td>\n",
       "      <td>0.954612</td>\n",
       "      <td>0.873662</td>\n",
       "      <td>0.988229</td>\n",
       "      <td>0.993676</td>\n",
       "      <td>0.951481</td>\n",
       "      <td>0.993382</td>\n",
       "      <td>0.987251</td>\n",
       "      <td>...</td>\n",
       "      <td>0.733089</td>\n",
       "      <td>0.690147</td>\n",
       "      <td>0.883903</td>\n",
       "      <td>0.696968</td>\n",
       "      <td>0.717593</td>\n",
       "      <td>0.704929</td>\n",
       "      <td>0.694258</td>\n",
       "      <td>0.680787</td>\n",
       "      <td>0.685671</td>\n",
       "      <td>0.689156</td>\n",
       "    </tr>\n",
       "    <tr>\n",
       "      <th>18</th>\n",
       "      <td>0.819114</td>\n",
       "      <td>0.991267</td>\n",
       "      <td>0.999915</td>\n",
       "      <td>0.921004</td>\n",
       "      <td>0.916956</td>\n",
       "      <td>0.968593</td>\n",
       "      <td>0.999890</td>\n",
       "      <td>0.916927</td>\n",
       "      <td>0.977440</td>\n",
       "      <td>0.967016</td>\n",
       "      <td>...</td>\n",
       "      <td>0.663470</td>\n",
       "      <td>0.616263</td>\n",
       "      <td>0.925308</td>\n",
       "      <td>0.623699</td>\n",
       "      <td>0.646813</td>\n",
       "      <td>0.632458</td>\n",
       "      <td>0.620742</td>\n",
       "      <td>0.608073</td>\n",
       "      <td>0.611432</td>\n",
       "      <td>0.615399</td>\n",
       "    </tr>\n",
       "    <tr>\n",
       "      <th>19</th>\n",
       "      <td>0.885075</td>\n",
       "      <td>0.999985</td>\n",
       "      <td>0.993539</td>\n",
       "      <td>0.962870</td>\n",
       "      <td>0.859143</td>\n",
       "      <td>0.992260</td>\n",
       "      <td>0.989990</td>\n",
       "      <td>0.960028</td>\n",
       "      <td>0.996302</td>\n",
       "      <td>0.991463</td>\n",
       "      <td>...</td>\n",
       "      <td>0.752485</td>\n",
       "      <td>0.710900</td>\n",
       "      <td>0.869929</td>\n",
       "      <td>0.717524</td>\n",
       "      <td>0.737360</td>\n",
       "      <td>0.725230</td>\n",
       "      <td>0.714894</td>\n",
       "      <td>0.701192</td>\n",
       "      <td>0.706536</td>\n",
       "      <td>0.709869</td>\n",
       "    </tr>\n",
       "    <tr>\n",
       "      <th>20</th>\n",
       "      <td>0.909904</td>\n",
       "      <td>0.998703</td>\n",
       "      <td>0.985563</td>\n",
       "      <td>0.976556</td>\n",
       "      <td>0.828932</td>\n",
       "      <td>0.997682</td>\n",
       "      <td>0.980460</td>\n",
       "      <td>0.974279</td>\n",
       "      <td>0.999561</td>\n",
       "      <td>0.997236</td>\n",
       "      <td>...</td>\n",
       "      <td>0.788292</td>\n",
       "      <td>0.749413</td>\n",
       "      <td>0.840747</td>\n",
       "      <td>0.755643</td>\n",
       "      <td>0.773938</td>\n",
       "      <td>0.762844</td>\n",
       "      <td>0.753171</td>\n",
       "      <td>0.739123</td>\n",
       "      <td>0.745286</td>\n",
       "      <td>0.748325</td>\n",
       "    </tr>\n",
       "    <tr>\n",
       "      <th>21</th>\n",
       "      <td>0.694280</td>\n",
       "      <td>0.947747</td>\n",
       "      <td>0.978958</td>\n",
       "      <td>0.829496</td>\n",
       "      <td>0.976339</td>\n",
       "      <td>0.903155</td>\n",
       "      <td>0.984266</td>\n",
       "      <td>0.823677</td>\n",
       "      <td>0.918999</td>\n",
       "      <td>0.900447</td>\n",
       "      <td>...</td>\n",
       "      <td>0.508535</td>\n",
       "      <td>0.454262</td>\n",
       "      <td>0.980755</td>\n",
       "      <td>0.462702</td>\n",
       "      <td>0.490076</td>\n",
       "      <td>0.472785</td>\n",
       "      <td>0.459339</td>\n",
       "      <td>0.448639</td>\n",
       "      <td>0.448876</td>\n",
       "      <td>0.453684</td>\n",
       "    </tr>\n",
       "    <tr>\n",
       "      <th>22</th>\n",
       "      <td>0.911555</td>\n",
       "      <td>0.998492</td>\n",
       "      <td>0.984878</td>\n",
       "      <td>0.977409</td>\n",
       "      <td>0.826690</td>\n",
       "      <td>0.997946</td>\n",
       "      <td>0.979666</td>\n",
       "      <td>0.975172</td>\n",
       "      <td>0.999671</td>\n",
       "      <td>0.997525</td>\n",
       "      <td>...</td>\n",
       "      <td>0.790742</td>\n",
       "      <td>0.752054</td>\n",
       "      <td>0.838576</td>\n",
       "      <td>0.758256</td>\n",
       "      <td>0.776447</td>\n",
       "      <td>0.765422</td>\n",
       "      <td>0.755795</td>\n",
       "      <td>0.741744</td>\n",
       "      <td>0.747946</td>\n",
       "      <td>0.750967</td>\n",
       "    </tr>\n",
       "    <tr>\n",
       "      <th>23</th>\n",
       "      <td>0.606852</td>\n",
       "      <td>0.904741</td>\n",
       "      <td>0.948975</td>\n",
       "      <td>0.759719</td>\n",
       "      <td>0.994737</td>\n",
       "      <td>0.847754</td>\n",
       "      <td>0.957397</td>\n",
       "      <td>0.752955</td>\n",
       "      <td>0.867528</td>\n",
       "      <td>0.844415</td>\n",
       "      <td>...</td>\n",
       "      <td>0.406286</td>\n",
       "      <td>0.348734</td>\n",
       "      <td>0.996707</td>\n",
       "      <td>0.357625</td>\n",
       "      <td>0.387064</td>\n",
       "      <td>0.368326</td>\n",
       "      <td>0.354078</td>\n",
       "      <td>0.344727</td>\n",
       "      <td>0.343106</td>\n",
       "      <td>0.348330</td>\n",
       "    </tr>\n",
       "    <tr>\n",
       "      <th>24</th>\n",
       "      <td>0.892551</td>\n",
       "      <td>0.999941</td>\n",
       "      <td>0.991556</td>\n",
       "      <td>0.967146</td>\n",
       "      <td>0.850680</td>\n",
       "      <td>0.994154</td>\n",
       "      <td>0.987555</td>\n",
       "      <td>0.964467</td>\n",
       "      <td>0.997571</td>\n",
       "      <td>0.993458</td>\n",
       "      <td>...</td>\n",
       "      <td>0.763095</td>\n",
       "      <td>0.722280</td>\n",
       "      <td>0.861766</td>\n",
       "      <td>0.728792</td>\n",
       "      <td>0.748187</td>\n",
       "      <td>0.736355</td>\n",
       "      <td>0.726207</td>\n",
       "      <td>0.712389</td>\n",
       "      <td>0.717983</td>\n",
       "      <td>0.721231</td>\n",
       "    </tr>\n",
       "    <tr>\n",
       "      <th>25</th>\n",
       "      <td>0.999973</td>\n",
       "      <td>0.884165</td>\n",
       "      <td>0.822337</td>\n",
       "      <td>0.976288</td>\n",
       "      <td>0.515881</td>\n",
       "      <td>0.933387</td>\n",
       "      <td>0.806156</td>\n",
       "      <td>0.978474</td>\n",
       "      <td>0.918893</td>\n",
       "      <td>0.935617</td>\n",
       "      <td>...</td>\n",
       "      <td>0.973114</td>\n",
       "      <td>0.958679</td>\n",
       "      <td>0.534149</td>\n",
       "      <td>0.961288</td>\n",
       "      <td>0.965953</td>\n",
       "      <td>0.963925</td>\n",
       "      <td>0.960271</td>\n",
       "      <td>0.944748</td>\n",
       "      <td>0.956708</td>\n",
       "      <td>0.957179</td>\n",
       "    </tr>\n",
       "    <tr>\n",
       "      <th>26</th>\n",
       "      <td>0.968028</td>\n",
       "      <td>0.974765</td>\n",
       "      <td>0.941304</td>\n",
       "      <td>0.999084</td>\n",
       "      <td>0.719444</td>\n",
       "      <td>0.994377</td>\n",
       "      <td>0.931528</td>\n",
       "      <td>0.998590</td>\n",
       "      <td>0.989569</td>\n",
       "      <td>0.995021</td>\n",
       "      <td>...</td>\n",
       "      <td>0.882513</td>\n",
       "      <td>0.852820</td>\n",
       "      <td>0.734185</td>\n",
       "      <td>0.857700</td>\n",
       "      <td>0.870760</td>\n",
       "      <td>0.863182</td>\n",
       "      <td>0.855773</td>\n",
       "      <td>0.840681</td>\n",
       "      <td>0.849468</td>\n",
       "      <td>0.851507</td>\n",
       "    </tr>\n",
       "    <tr>\n",
       "      <th>27</th>\n",
       "      <td>0.549622</td>\n",
       "      <td>0.872643</td>\n",
       "      <td>0.924524</td>\n",
       "      <td>0.712249</td>\n",
       "      <td>0.999473</td>\n",
       "      <td>0.808474</td>\n",
       "      <td>0.934789</td>\n",
       "      <td>0.704953</td>\n",
       "      <td>0.830513</td>\n",
       "      <td>0.804771</td>\n",
       "      <td>...</td>\n",
       "      <td>0.341343</td>\n",
       "      <td>0.282153</td>\n",
       "      <td>0.999939</td>\n",
       "      <td>0.291264</td>\n",
       "      <td>0.321790</td>\n",
       "      <td>0.302274</td>\n",
       "      <td>0.287628</td>\n",
       "      <td>0.279210</td>\n",
       "      <td>0.276420</td>\n",
       "      <td>0.281871</td>\n",
       "    </tr>\n",
       "    <tr>\n",
       "      <th>28</th>\n",
       "      <td>0.997033</td>\n",
       "      <td>0.849518</td>\n",
       "      <td>0.780756</td>\n",
       "      <td>0.958860</td>\n",
       "      <td>0.455029</td>\n",
       "      <td>0.906157</td>\n",
       "      <td>0.763035</td>\n",
       "      <td>0.961745</td>\n",
       "      <td>0.889218</td>\n",
       "      <td>0.908789</td>\n",
       "      <td>...</td>\n",
       "      <td>0.986263</td>\n",
       "      <td>0.976147</td>\n",
       "      <td>0.474036</td>\n",
       "      <td>0.978108</td>\n",
       "      <td>0.980401</td>\n",
       "      <td>0.979937</td>\n",
       "      <td>0.977351</td>\n",
       "      <td>0.961792</td>\n",
       "      <td>0.974555</td>\n",
       "      <td>0.974585</td>\n",
       "    </tr>\n",
       "    <tr>\n",
       "      <th>29</th>\n",
       "      <td>0.959647</td>\n",
       "      <td>0.981313</td>\n",
       "      <td>0.951468</td>\n",
       "      <td>0.997243</td>\n",
       "      <td>0.740962</td>\n",
       "      <td>0.997219</td>\n",
       "      <td>0.942520</td>\n",
       "      <td>0.996423</td>\n",
       "      <td>0.993615</td>\n",
       "      <td>0.997666</td>\n",
       "      <td>...</td>\n",
       "      <td>0.867422</td>\n",
       "      <td>0.835953</td>\n",
       "      <td>0.755205</td>\n",
       "      <td>0.841095</td>\n",
       "      <td>0.855194</td>\n",
       "      <td>0.846912</td>\n",
       "      <td>0.839061</td>\n",
       "      <td>0.824247</td>\n",
       "      <td>0.832469</td>\n",
       "      <td>0.834711</td>\n",
       "    </tr>\n",
       "    <tr>\n",
       "      <th>...</th>\n",
       "      <td>...</td>\n",
       "      <td>...</td>\n",
       "      <td>...</td>\n",
       "      <td>...</td>\n",
       "      <td>...</td>\n",
       "      <td>...</td>\n",
       "      <td>...</td>\n",
       "      <td>...</td>\n",
       "      <td>...</td>\n",
       "      <td>...</td>\n",
       "      <td>...</td>\n",
       "      <td>...</td>\n",
       "      <td>...</td>\n",
       "      <td>...</td>\n",
       "      <td>...</td>\n",
       "      <td>...</td>\n",
       "      <td>...</td>\n",
       "      <td>...</td>\n",
       "      <td>...</td>\n",
       "      <td>...</td>\n",
       "      <td>...</td>\n",
       "    </tr>\n",
       "    <tr>\n",
       "      <th>3726</th>\n",
       "      <td>0.968301</td>\n",
       "      <td>0.744416</td>\n",
       "      <td>0.659733</td>\n",
       "      <td>0.894607</td>\n",
       "      <td>0.292647</td>\n",
       "      <td>0.818442</td>\n",
       "      <td>0.638528</td>\n",
       "      <td>0.899179</td>\n",
       "      <td>0.795735</td>\n",
       "      <td>0.822025</td>\n",
       "      <td>...</td>\n",
       "      <td>0.998255</td>\n",
       "      <td>0.999055</td>\n",
       "      <td>0.313103</td>\n",
       "      <td>0.999368</td>\n",
       "      <td>0.995867</td>\n",
       "      <td>0.999183</td>\n",
       "      <td>0.999271</td>\n",
       "      <td>0.984314</td>\n",
       "      <td>0.998504</td>\n",
       "      <td>0.997498</td>\n",
       "    </tr>\n",
       "    <tr>\n",
       "      <th>3727</th>\n",
       "      <td>0.959431</td>\n",
       "      <td>0.721795</td>\n",
       "      <td>0.634379</td>\n",
       "      <td>0.879244</td>\n",
       "      <td>0.260710</td>\n",
       "      <td>0.798870</td>\n",
       "      <td>0.612585</td>\n",
       "      <td>0.884111</td>\n",
       "      <td>0.775144</td>\n",
       "      <td>0.802623</td>\n",
       "      <td>...</td>\n",
       "      <td>0.997460</td>\n",
       "      <td>0.999929</td>\n",
       "      <td>0.281374</td>\n",
       "      <td>0.999991</td>\n",
       "      <td>0.995988</td>\n",
       "      <td>0.999514</td>\n",
       "      <td>0.999973</td>\n",
       "      <td>0.986528</td>\n",
       "      <td>0.999740</td>\n",
       "      <td>0.998696</td>\n",
       "    </tr>\n",
       "    <tr>\n",
       "      <th>3728</th>\n",
       "      <td>0.873731</td>\n",
       "      <td>0.999387</td>\n",
       "      <td>0.995737</td>\n",
       "      <td>0.956078</td>\n",
       "      <td>0.870755</td>\n",
       "      <td>0.988879</td>\n",
       "      <td>0.992839</td>\n",
       "      <td>0.953004</td>\n",
       "      <td>0.993817</td>\n",
       "      <td>0.987935</td>\n",
       "      <td>...</td>\n",
       "      <td>0.736718</td>\n",
       "      <td>0.694074</td>\n",
       "      <td>0.881101</td>\n",
       "      <td>0.700887</td>\n",
       "      <td>0.721501</td>\n",
       "      <td>0.709114</td>\n",
       "      <td>0.698218</td>\n",
       "      <td>0.684565</td>\n",
       "      <td>0.689610</td>\n",
       "      <td>0.693522</td>\n",
       "    </tr>\n",
       "    <tr>\n",
       "      <th>3729</th>\n",
       "      <td>0.954809</td>\n",
       "      <td>0.710596</td>\n",
       "      <td>0.621886</td>\n",
       "      <td>0.871493</td>\n",
       "      <td>0.245155</td>\n",
       "      <td>0.789122</td>\n",
       "      <td>0.599815</td>\n",
       "      <td>0.876515</td>\n",
       "      <td>0.764912</td>\n",
       "      <td>0.792955</td>\n",
       "      <td>...</td>\n",
       "      <td>0.996163</td>\n",
       "      <td>0.999982</td>\n",
       "      <td>0.265908</td>\n",
       "      <td>0.999836</td>\n",
       "      <td>0.994795</td>\n",
       "      <td>0.999082</td>\n",
       "      <td>0.999917</td>\n",
       "      <td>0.985396</td>\n",
       "      <td>0.999751</td>\n",
       "      <td>0.998456</td>\n",
       "    </tr>\n",
       "    <tr>\n",
       "      <th>3730</th>\n",
       "      <td>0.960868</td>\n",
       "      <td>0.725284</td>\n",
       "      <td>0.638271</td>\n",
       "      <td>0.881646</td>\n",
       "      <td>0.265557</td>\n",
       "      <td>0.801907</td>\n",
       "      <td>0.616564</td>\n",
       "      <td>0.886476</td>\n",
       "      <td>0.778333</td>\n",
       "      <td>0.805634</td>\n",
       "      <td>...</td>\n",
       "      <td>0.997401</td>\n",
       "      <td>0.999884</td>\n",
       "      <td>0.286190</td>\n",
       "      <td>0.999942</td>\n",
       "      <td>0.995625</td>\n",
       "      <td>0.999444</td>\n",
       "      <td>0.999941</td>\n",
       "      <td>0.985367</td>\n",
       "      <td>0.999534</td>\n",
       "      <td>0.998378</td>\n",
       "    </tr>\n",
       "    <tr>\n",
       "      <th>3731</th>\n",
       "      <td>0.956914</td>\n",
       "      <td>0.715615</td>\n",
       "      <td>0.627477</td>\n",
       "      <td>0.874980</td>\n",
       "      <td>0.252088</td>\n",
       "      <td>0.793500</td>\n",
       "      <td>0.605528</td>\n",
       "      <td>0.879940</td>\n",
       "      <td>0.769505</td>\n",
       "      <td>0.797297</td>\n",
       "      <td>...</td>\n",
       "      <td>0.996522</td>\n",
       "      <td>0.999995</td>\n",
       "      <td>0.272800</td>\n",
       "      <td>0.999902</td>\n",
       "      <td>0.994948</td>\n",
       "      <td>0.999206</td>\n",
       "      <td>0.999967</td>\n",
       "      <td>0.985104</td>\n",
       "      <td>0.999681</td>\n",
       "      <td>0.998391</td>\n",
       "    </tr>\n",
       "    <tr>\n",
       "      <th>3732</th>\n",
       "      <td>0.955331</td>\n",
       "      <td>0.711829</td>\n",
       "      <td>0.623259</td>\n",
       "      <td>0.872350</td>\n",
       "      <td>0.246854</td>\n",
       "      <td>0.790200</td>\n",
       "      <td>0.601217</td>\n",
       "      <td>0.877359</td>\n",
       "      <td>0.766042</td>\n",
       "      <td>0.794023</td>\n",
       "      <td>...</td>\n",
       "      <td>0.996141</td>\n",
       "      <td>0.999985</td>\n",
       "      <td>0.267596</td>\n",
       "      <td>0.999836</td>\n",
       "      <td>0.994653</td>\n",
       "      <td>0.999067</td>\n",
       "      <td>0.999924</td>\n",
       "      <td>0.984988</td>\n",
       "      <td>0.999690</td>\n",
       "      <td>0.998352</td>\n",
       "    </tr>\n",
       "    <tr>\n",
       "      <th>3733</th>\n",
       "      <td>0.959564</td>\n",
       "      <td>0.722058</td>\n",
       "      <td>0.634667</td>\n",
       "      <td>0.879429</td>\n",
       "      <td>0.261047</td>\n",
       "      <td>0.799107</td>\n",
       "      <td>0.612878</td>\n",
       "      <td>0.884306</td>\n",
       "      <td>0.775392</td>\n",
       "      <td>0.802858</td>\n",
       "      <td>...</td>\n",
       "      <td>0.997007</td>\n",
       "      <td>0.999938</td>\n",
       "      <td>0.281706</td>\n",
       "      <td>0.999929</td>\n",
       "      <td>0.995228</td>\n",
       "      <td>0.999336</td>\n",
       "      <td>0.999962</td>\n",
       "      <td>0.984942</td>\n",
       "      <td>0.999554</td>\n",
       "      <td>0.998314</td>\n",
       "    </tr>\n",
       "    <tr>\n",
       "      <th>3734</th>\n",
       "      <td>0.998248</td>\n",
       "      <td>0.906273</td>\n",
       "      <td>0.849794</td>\n",
       "      <td>0.985373</td>\n",
       "      <td>0.558748</td>\n",
       "      <td>0.949828</td>\n",
       "      <td>0.834814</td>\n",
       "      <td>0.986994</td>\n",
       "      <td>0.937190</td>\n",
       "      <td>0.951751</td>\n",
       "      <td>...</td>\n",
       "      <td>0.961434</td>\n",
       "      <td>0.942181</td>\n",
       "      <td>0.576416</td>\n",
       "      <td>0.945547</td>\n",
       "      <td>0.954686</td>\n",
       "      <td>0.949598</td>\n",
       "      <td>0.944199</td>\n",
       "      <td>0.933806</td>\n",
       "      <td>0.940618</td>\n",
       "      <td>0.942779</td>\n",
       "    </tr>\n",
       "    <tr>\n",
       "      <th>3735</th>\n",
       "      <td>0.534339</td>\n",
       "      <td>0.862456</td>\n",
       "      <td>0.916006</td>\n",
       "      <td>0.698905</td>\n",
       "      <td>0.997739</td>\n",
       "      <td>0.796737</td>\n",
       "      <td>0.926685</td>\n",
       "      <td>0.691423</td>\n",
       "      <td>0.819251</td>\n",
       "      <td>0.792954</td>\n",
       "      <td>...</td>\n",
       "      <td>0.328123</td>\n",
       "      <td>0.265581</td>\n",
       "      <td>0.997874</td>\n",
       "      <td>0.275199</td>\n",
       "      <td>0.310749</td>\n",
       "      <td>0.287460</td>\n",
       "      <td>0.271234</td>\n",
       "      <td>0.272356</td>\n",
       "      <td>0.261088</td>\n",
       "      <td>0.268163</td>\n",
       "    </tr>\n",
       "    <tr>\n",
       "      <th>3736</th>\n",
       "      <td>0.991560</td>\n",
       "      <td>0.939830</td>\n",
       "      <td>0.892535</td>\n",
       "      <td>0.996740</td>\n",
       "      <td>0.628378</td>\n",
       "      <td>0.973751</td>\n",
       "      <td>0.879617</td>\n",
       "      <td>0.997520</td>\n",
       "      <td>0.964275</td>\n",
       "      <td>0.975157</td>\n",
       "      <td>...</td>\n",
       "      <td>0.933385</td>\n",
       "      <td>0.910670</td>\n",
       "      <td>0.644929</td>\n",
       "      <td>0.914516</td>\n",
       "      <td>0.923761</td>\n",
       "      <td>0.918702</td>\n",
       "      <td>0.913001</td>\n",
       "      <td>0.897736</td>\n",
       "      <td>0.907971</td>\n",
       "      <td>0.909304</td>\n",
       "    </tr>\n",
       "    <tr>\n",
       "      <th>3737</th>\n",
       "      <td>0.958109</td>\n",
       "      <td>0.720038</td>\n",
       "      <td>0.632568</td>\n",
       "      <td>0.877724</td>\n",
       "      <td>0.258940</td>\n",
       "      <td>0.797178</td>\n",
       "      <td>0.610767</td>\n",
       "      <td>0.882554</td>\n",
       "      <td>0.773424</td>\n",
       "      <td>0.800938</td>\n",
       "      <td>...</td>\n",
       "      <td>0.998412</td>\n",
       "      <td>0.999133</td>\n",
       "      <td>0.279612</td>\n",
       "      <td>0.999464</td>\n",
       "      <td>0.998143</td>\n",
       "      <td>0.999463</td>\n",
       "      <td>0.999256</td>\n",
       "      <td>0.991583</td>\n",
       "      <td>0.999694</td>\n",
       "      <td>0.999434</td>\n",
       "    </tr>\n",
       "    <tr>\n",
       "      <th>3738</th>\n",
       "      <td>0.981286</td>\n",
       "      <td>0.782373</td>\n",
       "      <td>0.702766</td>\n",
       "      <td>0.919312</td>\n",
       "      <td>0.348365</td>\n",
       "      <td>0.850792</td>\n",
       "      <td>0.682663</td>\n",
       "      <td>0.923330</td>\n",
       "      <td>0.829952</td>\n",
       "      <td>0.854067</td>\n",
       "      <td>...</td>\n",
       "      <td>0.997669</td>\n",
       "      <td>0.994753</td>\n",
       "      <td>0.368404</td>\n",
       "      <td>0.995639</td>\n",
       "      <td>0.994215</td>\n",
       "      <td>0.996262</td>\n",
       "      <td>0.995323</td>\n",
       "      <td>0.980209</td>\n",
       "      <td>0.993866</td>\n",
       "      <td>0.993363</td>\n",
       "    </tr>\n",
       "    <tr>\n",
       "      <th>3739</th>\n",
       "      <td>0.955623</td>\n",
       "      <td>0.712555</td>\n",
       "      <td>0.624069</td>\n",
       "      <td>0.872854</td>\n",
       "      <td>0.247871</td>\n",
       "      <td>0.790828</td>\n",
       "      <td>0.602047</td>\n",
       "      <td>0.877845</td>\n",
       "      <td>0.766702</td>\n",
       "      <td>0.794646</td>\n",
       "      <td>...</td>\n",
       "      <td>0.996573</td>\n",
       "      <td>0.999989</td>\n",
       "      <td>0.268609</td>\n",
       "      <td>0.999904</td>\n",
       "      <td>0.995294</td>\n",
       "      <td>0.999246</td>\n",
       "      <td>0.999950</td>\n",
       "      <td>0.986100</td>\n",
       "      <td>0.999833</td>\n",
       "      <td>0.998651</td>\n",
       "    </tr>\n",
       "    <tr>\n",
       "      <th>3740</th>\n",
       "      <td>0.769118</td>\n",
       "      <td>0.976148</td>\n",
       "      <td>0.994339</td>\n",
       "      <td>0.885424</td>\n",
       "      <td>0.945010</td>\n",
       "      <td>0.944148</td>\n",
       "      <td>0.996564</td>\n",
       "      <td>0.880578</td>\n",
       "      <td>0.955977</td>\n",
       "      <td>0.942085</td>\n",
       "      <td>...</td>\n",
       "      <td>0.601123</td>\n",
       "      <td>0.549994</td>\n",
       "      <td>0.951738</td>\n",
       "      <td>0.558026</td>\n",
       "      <td>0.584697</td>\n",
       "      <td>0.568049</td>\n",
       "      <td>0.554881</td>\n",
       "      <td>0.545170</td>\n",
       "      <td>0.545241</td>\n",
       "      <td>0.550608</td>\n",
       "    </tr>\n",
       "    <tr>\n",
       "      <th>3741</th>\n",
       "      <td>0.614956</td>\n",
       "      <td>0.896433</td>\n",
       "      <td>0.936694</td>\n",
       "      <td>0.760688</td>\n",
       "      <td>0.970219</td>\n",
       "      <td>0.843484</td>\n",
       "      <td>0.944212</td>\n",
       "      <td>0.754198</td>\n",
       "      <td>0.861939</td>\n",
       "      <td>0.840348</td>\n",
       "      <td>...</td>\n",
       "      <td>0.425397</td>\n",
       "      <td>0.366503</td>\n",
       "      <td>0.972757</td>\n",
       "      <td>0.375558</td>\n",
       "      <td>0.409650</td>\n",
       "      <td>0.388076</td>\n",
       "      <td>0.371827</td>\n",
       "      <td>0.371944</td>\n",
       "      <td>0.362324</td>\n",
       "      <td>0.369429</td>\n",
       "    </tr>\n",
       "    <tr>\n",
       "      <th>3742</th>\n",
       "      <td>0.954746</td>\n",
       "      <td>0.710443</td>\n",
       "      <td>0.621715</td>\n",
       "      <td>0.871384</td>\n",
       "      <td>0.244943</td>\n",
       "      <td>0.788989</td>\n",
       "      <td>0.599640</td>\n",
       "      <td>0.876411</td>\n",
       "      <td>0.764773</td>\n",
       "      <td>0.792823</td>\n",
       "      <td>...</td>\n",
       "      <td>0.996007</td>\n",
       "      <td>0.999975</td>\n",
       "      <td>0.265695</td>\n",
       "      <td>0.999808</td>\n",
       "      <td>0.994562</td>\n",
       "      <td>0.999018</td>\n",
       "      <td>0.999904</td>\n",
       "      <td>0.984979</td>\n",
       "      <td>0.999692</td>\n",
       "      <td>0.998347</td>\n",
       "    </tr>\n",
       "    <tr>\n",
       "      <th>3743</th>\n",
       "      <td>0.989763</td>\n",
       "      <td>0.814204</td>\n",
       "      <td>0.739471</td>\n",
       "      <td>0.938672</td>\n",
       "      <td>0.397794</td>\n",
       "      <td>0.877293</td>\n",
       "      <td>0.720437</td>\n",
       "      <td>0.942138</td>\n",
       "      <td>0.858216</td>\n",
       "      <td>0.880275</td>\n",
       "      <td>...</td>\n",
       "      <td>0.995249</td>\n",
       "      <td>0.987553</td>\n",
       "      <td>0.417398</td>\n",
       "      <td>0.989160</td>\n",
       "      <td>0.991680</td>\n",
       "      <td>0.990803</td>\n",
       "      <td>0.988491</td>\n",
       "      <td>0.977541</td>\n",
       "      <td>0.986930</td>\n",
       "      <td>0.987384</td>\n",
       "    </tr>\n",
       "    <tr>\n",
       "      <th>3744</th>\n",
       "      <td>0.990728</td>\n",
       "      <td>0.818055</td>\n",
       "      <td>0.743930</td>\n",
       "      <td>0.940970</td>\n",
       "      <td>0.403844</td>\n",
       "      <td>0.880486</td>\n",
       "      <td>0.725029</td>\n",
       "      <td>0.944379</td>\n",
       "      <td>0.861628</td>\n",
       "      <td>0.883433</td>\n",
       "      <td>...</td>\n",
       "      <td>0.994415</td>\n",
       "      <td>0.986573</td>\n",
       "      <td>0.423390</td>\n",
       "      <td>0.988217</td>\n",
       "      <td>0.990587</td>\n",
       "      <td>0.989996</td>\n",
       "      <td>0.987545</td>\n",
       "      <td>0.975885</td>\n",
       "      <td>0.985804</td>\n",
       "      <td>0.986303</td>\n",
       "    </tr>\n",
       "    <tr>\n",
       "      <th>3745</th>\n",
       "      <td>0.981372</td>\n",
       "      <td>0.795871</td>\n",
       "      <td>0.719224</td>\n",
       "      <td>0.925504</td>\n",
       "      <td>0.373233</td>\n",
       "      <td>0.861127</td>\n",
       "      <td>0.699781</td>\n",
       "      <td>0.929224</td>\n",
       "      <td>0.841329</td>\n",
       "      <td>0.864224</td>\n",
       "      <td>...</td>\n",
       "      <td>0.991228</td>\n",
       "      <td>0.986344</td>\n",
       "      <td>0.392944</td>\n",
       "      <td>0.987469</td>\n",
       "      <td>0.987534</td>\n",
       "      <td>0.988839</td>\n",
       "      <td>0.987028</td>\n",
       "      <td>0.972176</td>\n",
       "      <td>0.985351</td>\n",
       "      <td>0.984958</td>\n",
       "    </tr>\n",
       "    <tr>\n",
       "      <th>3746</th>\n",
       "      <td>0.971429</td>\n",
       "      <td>0.756065</td>\n",
       "      <td>0.673151</td>\n",
       "      <td>0.901757</td>\n",
       "      <td>0.310707</td>\n",
       "      <td>0.828137</td>\n",
       "      <td>0.652338</td>\n",
       "      <td>0.906065</td>\n",
       "      <td>0.806070</td>\n",
       "      <td>0.831613</td>\n",
       "      <td>...</td>\n",
       "      <td>1.000000</td>\n",
       "      <td>0.996593</td>\n",
       "      <td>0.331028</td>\n",
       "      <td>0.997538</td>\n",
       "      <td>0.999122</td>\n",
       "      <td>0.998380</td>\n",
       "      <td>0.997053</td>\n",
       "      <td>0.991029</td>\n",
       "      <td>0.997126</td>\n",
       "      <td>0.997471</td>\n",
       "    </tr>\n",
       "    <tr>\n",
       "      <th>3747</th>\n",
       "      <td>0.956543</td>\n",
       "      <td>0.714732</td>\n",
       "      <td>0.626493</td>\n",
       "      <td>0.874369</td>\n",
       "      <td>0.250869</td>\n",
       "      <td>0.792730</td>\n",
       "      <td>0.604522</td>\n",
       "      <td>0.879336</td>\n",
       "      <td>0.768696</td>\n",
       "      <td>0.796533</td>\n",
       "      <td>...</td>\n",
       "      <td>0.996593</td>\n",
       "      <td>1.000000</td>\n",
       "      <td>0.271589</td>\n",
       "      <td>0.999919</td>\n",
       "      <td>0.995148</td>\n",
       "      <td>0.999264</td>\n",
       "      <td>0.999974</td>\n",
       "      <td>0.985559</td>\n",
       "      <td>0.999752</td>\n",
       "      <td>0.998536</td>\n",
       "    </tr>\n",
       "    <tr>\n",
       "      <th>3748</th>\n",
       "      <td>0.540403</td>\n",
       "      <td>0.867221</td>\n",
       "      <td>0.920278</td>\n",
       "      <td>0.704489</td>\n",
       "      <td>0.999770</td>\n",
       "      <td>0.801954</td>\n",
       "      <td>0.930827</td>\n",
       "      <td>0.697112</td>\n",
       "      <td>0.824338</td>\n",
       "      <td>0.798196</td>\n",
       "      <td>...</td>\n",
       "      <td>0.331028</td>\n",
       "      <td>0.271589</td>\n",
       "      <td>1.000000</td>\n",
       "      <td>0.280734</td>\n",
       "      <td>0.311445</td>\n",
       "      <td>0.291793</td>\n",
       "      <td>0.277083</td>\n",
       "      <td>0.268873</td>\n",
       "      <td>0.265849</td>\n",
       "      <td>0.271343</td>\n",
       "    </tr>\n",
       "    <tr>\n",
       "      <th>3749</th>\n",
       "      <td>0.959220</td>\n",
       "      <td>0.721319</td>\n",
       "      <td>0.633851</td>\n",
       "      <td>0.878908</td>\n",
       "      <td>0.260065</td>\n",
       "      <td>0.798451</td>\n",
       "      <td>0.612046</td>\n",
       "      <td>0.883778</td>\n",
       "      <td>0.774706</td>\n",
       "      <td>0.802207</td>\n",
       "      <td>...</td>\n",
       "      <td>0.997538</td>\n",
       "      <td>0.999919</td>\n",
       "      <td>0.280734</td>\n",
       "      <td>1.000000</td>\n",
       "      <td>0.996198</td>\n",
       "      <td>0.999597</td>\n",
       "      <td>0.999973</td>\n",
       "      <td>0.986867</td>\n",
       "      <td>0.999787</td>\n",
       "      <td>0.998858</td>\n",
       "    </tr>\n",
       "    <tr>\n",
       "      <th>3750</th>\n",
       "      <td>0.964129</td>\n",
       "      <td>0.741015</td>\n",
       "      <td>0.656637</td>\n",
       "      <td>0.890762</td>\n",
       "      <td>0.291027</td>\n",
       "      <td>0.814748</td>\n",
       "      <td>0.635518</td>\n",
       "      <td>0.895198</td>\n",
       "      <td>0.792118</td>\n",
       "      <td>0.818316</td>\n",
       "      <td>...</td>\n",
       "      <td>0.999122</td>\n",
       "      <td>0.995148</td>\n",
       "      <td>0.311445</td>\n",
       "      <td>0.996198</td>\n",
       "      <td>1.000000</td>\n",
       "      <td>0.997506</td>\n",
       "      <td>0.995616</td>\n",
       "      <td>0.995125</td>\n",
       "      <td>0.996531</td>\n",
       "      <td>0.997844</td>\n",
       "    </tr>\n",
       "    <tr>\n",
       "      <th>3751</th>\n",
       "      <td>0.961941</td>\n",
       "      <td>0.728980</td>\n",
       "      <td>0.642506</td>\n",
       "      <td>0.883966</td>\n",
       "      <td>0.271196</td>\n",
       "      <td>0.805002</td>\n",
       "      <td>0.620919</td>\n",
       "      <td>0.888708</td>\n",
       "      <td>0.781625</td>\n",
       "      <td>0.808695</td>\n",
       "      <td>...</td>\n",
       "      <td>0.998380</td>\n",
       "      <td>0.999264</td>\n",
       "      <td>0.291793</td>\n",
       "      <td>0.999597</td>\n",
       "      <td>0.997506</td>\n",
       "      <td>1.000000</td>\n",
       "      <td>0.999451</td>\n",
       "      <td>0.988564</td>\n",
       "      <td>0.999368</td>\n",
       "      <td>0.999281</td>\n",
       "    </tr>\n",
       "    <tr>\n",
       "      <th>3752</th>\n",
       "      <td>0.958175</td>\n",
       "      <td>0.718704</td>\n",
       "      <td>0.630925</td>\n",
       "      <td>0.877114</td>\n",
       "      <td>0.256394</td>\n",
       "      <td>0.796185</td>\n",
       "      <td>0.609054</td>\n",
       "      <td>0.882026</td>\n",
       "      <td>0.772324</td>\n",
       "      <td>0.799959</td>\n",
       "      <td>...</td>\n",
       "      <td>0.997053</td>\n",
       "      <td>0.999974</td>\n",
       "      <td>0.277083</td>\n",
       "      <td>0.999973</td>\n",
       "      <td>0.995616</td>\n",
       "      <td>0.999451</td>\n",
       "      <td>1.000000</td>\n",
       "      <td>0.985969</td>\n",
       "      <td>0.999744</td>\n",
       "      <td>0.998698</td>\n",
       "    </tr>\n",
       "    <tr>\n",
       "      <th>3753</th>\n",
       "      <td>0.942648</td>\n",
       "      <td>0.704971</td>\n",
       "      <td>0.618134</td>\n",
       "      <td>0.862140</td>\n",
       "      <td>0.248381</td>\n",
       "      <td>0.781652</td>\n",
       "      <td>0.596513</td>\n",
       "      <td>0.866796</td>\n",
       "      <td>0.758004</td>\n",
       "      <td>0.785410</td>\n",
       "      <td>...</td>\n",
       "      <td>0.991029</td>\n",
       "      <td>0.985559</td>\n",
       "      <td>0.268873</td>\n",
       "      <td>0.986867</td>\n",
       "      <td>0.995125</td>\n",
       "      <td>0.988564</td>\n",
       "      <td>0.985969</td>\n",
       "      <td>1.000000</td>\n",
       "      <td>0.988813</td>\n",
       "      <td>0.991499</td>\n",
       "    </tr>\n",
       "    <tr>\n",
       "      <th>3754</th>\n",
       "      <td>0.954530</td>\n",
       "      <td>0.710392</td>\n",
       "      <td>0.621705</td>\n",
       "      <td>0.871264</td>\n",
       "      <td>0.245092</td>\n",
       "      <td>0.788890</td>\n",
       "      <td>0.599642</td>\n",
       "      <td>0.876254</td>\n",
       "      <td>0.764686</td>\n",
       "      <td>0.792720</td>\n",
       "      <td>...</td>\n",
       "      <td>0.997126</td>\n",
       "      <td>0.999752</td>\n",
       "      <td>0.265849</td>\n",
       "      <td>0.999787</td>\n",
       "      <td>0.996531</td>\n",
       "      <td>0.999368</td>\n",
       "      <td>0.999744</td>\n",
       "      <td>0.988813</td>\n",
       "      <td>1.000000</td>\n",
       "      <td>0.999222</td>\n",
       "    </tr>\n",
       "    <tr>\n",
       "      <th>3755</th>\n",
       "      <td>0.955047</td>\n",
       "      <td>0.713698</td>\n",
       "      <td>0.625609</td>\n",
       "      <td>0.873087</td>\n",
       "      <td>0.250634</td>\n",
       "      <td>0.791544</td>\n",
       "      <td>0.603679</td>\n",
       "      <td>0.877986</td>\n",
       "      <td>0.767552</td>\n",
       "      <td>0.795341</td>\n",
       "      <td>...</td>\n",
       "      <td>0.997471</td>\n",
       "      <td>0.998536</td>\n",
       "      <td>0.271343</td>\n",
       "      <td>0.998858</td>\n",
       "      <td>0.997844</td>\n",
       "      <td>0.999281</td>\n",
       "      <td>0.998698</td>\n",
       "      <td>0.991499</td>\n",
       "      <td>0.999222</td>\n",
       "      <td>1.000000</td>\n",
       "    </tr>\n",
       "  </tbody>\n",
       "</table>\n",
       "<p>3756 rows × 3756 columns</p>\n",
       "</div>"
      ],
      "text/plain": [
       "          0         1         2         3         4         5         6     \\\n",
       "0     1.000000  0.887605  0.826534  0.977866  0.522220  0.936023  0.810522   \n",
       "1     0.887605  1.000000  0.992905  0.964331  0.856335  0.992924  0.989204   \n",
       "2     0.826534  0.992905  1.000000  0.926012  0.911668  0.971757  0.999611   \n",
       "3     0.977866  0.964331  0.926012  1.000000  0.689094  0.988940  0.915129   \n",
       "4     0.522220  0.856335  0.911668  0.689094  1.000000  0.788948  0.922769   \n",
       "5     0.936023  0.992924  0.971757  0.988940  0.788948  1.000000  0.964801   \n",
       "6     0.810522  0.989204  0.999611  0.915129  0.922769  0.964801  1.000000   \n",
       "7     0.979978  0.961542  0.922060  0.999946  0.681564  0.987355  0.910912   \n",
       "8     0.921793  0.996757  0.980115  0.982504  0.811998  0.999260  0.974202   \n",
       "9     0.938209  0.992160  0.970259  0.989850  0.785083  0.999980  0.963134   \n",
       "10    0.869326  0.999267  0.996728  0.953493  0.875472  0.987651  0.994088   \n",
       "11    0.835073  0.994612  0.999882  0.931695  0.905256  0.975263  0.999066   \n",
       "12    0.981948  0.958706  0.918084  0.999789  0.674103  0.985695  0.906678   \n",
       "13    0.624773  0.914195  0.955901  0.774311  0.992149  0.859598  0.963717   \n",
       "14    0.934543  0.993411  0.972735  0.988313  0.791509  0.999991  0.965892   \n",
       "15    0.749095  0.970034  0.992044  0.871121  0.956147  0.934317  0.995168   \n",
       "16    0.999285  0.904381  0.847221  0.985076  0.554083  0.948657  0.832083   \n",
       "17    0.871164  0.999403  0.996420  0.954612  0.873662  0.988229  0.993676   \n",
       "18    0.819114  0.991267  0.999915  0.921004  0.916956  0.968593  0.999890   \n",
       "19    0.885075  0.999985  0.993539  0.962870  0.859143  0.992260  0.989990   \n",
       "20    0.909904  0.998703  0.985563  0.976556  0.828932  0.997682  0.980460   \n",
       "21    0.694280  0.947747  0.978958  0.829496  0.976339  0.903155  0.984266   \n",
       "22    0.911555  0.998492  0.984878  0.977409  0.826690  0.997946  0.979666   \n",
       "23    0.606852  0.904741  0.948975  0.759719  0.994737  0.847754  0.957397   \n",
       "24    0.892551  0.999941  0.991556  0.967146  0.850680  0.994154  0.987555   \n",
       "25    0.999973  0.884165  0.822337  0.976288  0.515881  0.933387  0.806156   \n",
       "26    0.968028  0.974765  0.941304  0.999084  0.719444  0.994377  0.931528   \n",
       "27    0.549622  0.872643  0.924524  0.712249  0.999473  0.808474  0.934789   \n",
       "28    0.997033  0.849518  0.780756  0.958860  0.455029  0.906157  0.763035   \n",
       "29    0.959647  0.981313  0.951468  0.997243  0.740962  0.997219  0.942520   \n",
       "...        ...       ...       ...       ...       ...       ...       ...   \n",
       "3726  0.968301  0.744416  0.659733  0.894607  0.292647  0.818442  0.638528   \n",
       "3727  0.959431  0.721795  0.634379  0.879244  0.260710  0.798870  0.612585   \n",
       "3728  0.873731  0.999387  0.995737  0.956078  0.870755  0.988879  0.992839   \n",
       "3729  0.954809  0.710596  0.621886  0.871493  0.245155  0.789122  0.599815   \n",
       "3730  0.960868  0.725284  0.638271  0.881646  0.265557  0.801907  0.616564   \n",
       "3731  0.956914  0.715615  0.627477  0.874980  0.252088  0.793500  0.605528   \n",
       "3732  0.955331  0.711829  0.623259  0.872350  0.246854  0.790200  0.601217   \n",
       "3733  0.959564  0.722058  0.634667  0.879429  0.261047  0.799107  0.612878   \n",
       "3734  0.998248  0.906273  0.849794  0.985373  0.558748  0.949828  0.834814   \n",
       "3735  0.534339  0.862456  0.916006  0.698905  0.997739  0.796737  0.926685   \n",
       "3736  0.991560  0.939830  0.892535  0.996740  0.628378  0.973751  0.879617   \n",
       "3737  0.958109  0.720038  0.632568  0.877724  0.258940  0.797178  0.610767   \n",
       "3738  0.981286  0.782373  0.702766  0.919312  0.348365  0.850792  0.682663   \n",
       "3739  0.955623  0.712555  0.624069  0.872854  0.247871  0.790828  0.602047   \n",
       "3740  0.769118  0.976148  0.994339  0.885424  0.945010  0.944148  0.996564   \n",
       "3741  0.614956  0.896433  0.936694  0.760688  0.970219  0.843484  0.944212   \n",
       "3742  0.954746  0.710443  0.621715  0.871384  0.244943  0.788989  0.599640   \n",
       "3743  0.989763  0.814204  0.739471  0.938672  0.397794  0.877293  0.720437   \n",
       "3744  0.990728  0.818055  0.743930  0.940970  0.403844  0.880486  0.725029   \n",
       "3745  0.981372  0.795871  0.719224  0.925504  0.373233  0.861127  0.699781   \n",
       "3746  0.971429  0.756065  0.673151  0.901757  0.310707  0.828137  0.652338   \n",
       "3747  0.956543  0.714732  0.626493  0.874369  0.250869  0.792730  0.604522   \n",
       "3748  0.540403  0.867221  0.920278  0.704489  0.999770  0.801954  0.930827   \n",
       "3749  0.959220  0.721319  0.633851  0.878908  0.260065  0.798451  0.612046   \n",
       "3750  0.964129  0.741015  0.656637  0.890762  0.291027  0.814748  0.635518   \n",
       "3751  0.961941  0.728980  0.642506  0.883966  0.271196  0.805002  0.620919   \n",
       "3752  0.958175  0.718704  0.630925  0.877114  0.256394  0.796185  0.609054   \n",
       "3753  0.942648  0.704971  0.618134  0.862140  0.248381  0.781652  0.596513   \n",
       "3754  0.954530  0.710392  0.621705  0.871264  0.245092  0.788890  0.599642   \n",
       "3755  0.955047  0.713698  0.625609  0.873087  0.250634  0.791544  0.603679   \n",
       "\n",
       "          7         8         9       ...         3746      3747      3748  \\\n",
       "0     0.979978  0.921793  0.938209    ...     0.971429  0.956543  0.540403   \n",
       "1     0.961542  0.996757  0.992160    ...     0.756065  0.714732  0.867221   \n",
       "2     0.922060  0.980115  0.970259    ...     0.673151  0.626493  0.920278   \n",
       "3     0.999946  0.982504  0.989850    ...     0.901757  0.874369  0.704489   \n",
       "4     0.681564  0.811998  0.785083    ...     0.310707  0.250869  0.999770   \n",
       "5     0.987355  0.999260  0.999980    ...     0.828137  0.792730  0.801954   \n",
       "6     0.910912  0.974202  0.963134    ...     0.652338  0.604522  0.930827   \n",
       "7     1.000000  0.980527  0.988329    ...     0.906065  0.879336  0.697112   \n",
       "8     0.980527  1.000000  0.998999    ...     0.806070  0.768696  0.824338   \n",
       "9     0.988329  0.998999  1.000000    ...     0.831613  0.796533  0.798196   \n",
       "10    0.950327  0.992946  0.986650    ...     0.730541  0.687441  0.885642   \n",
       "11    0.927889  0.983044  0.973859    ...     0.684407  0.638378  0.914167   \n",
       "12    0.999948  0.978483  0.986732    ...     0.910286  0.884124  0.689801   \n",
       "13    0.767727  0.878616  0.856380    ...     0.426922  0.369960  0.994605   \n",
       "14    0.986684  0.999412  0.999945    ...     0.825832  0.790177  0.804444   \n",
       "15    0.865997  0.947336  0.932065    ...     0.574956  0.523385  0.962213   \n",
       "16    0.986804  0.935789  0.950620    ...     0.962042  0.944839  0.571823   \n",
       "17    0.951481  0.993382  0.987251    ...     0.733089  0.690147  0.883903   \n",
       "18    0.916927  0.977440  0.967016    ...     0.663470  0.616263  0.925308   \n",
       "19    0.960028  0.996302  0.991463    ...     0.752485  0.710900  0.869929   \n",
       "20    0.974279  0.999561  0.997236    ...     0.788292  0.749413  0.840747   \n",
       "21    0.823677  0.918999  0.900447    ...     0.508535  0.454262  0.980755   \n",
       "22    0.975172  0.999671  0.997525    ...     0.790742  0.752054  0.838576   \n",
       "23    0.752955  0.867528  0.844415    ...     0.406286  0.348734  0.996707   \n",
       "24    0.964467  0.997571  0.993458    ...     0.763095  0.722280  0.861766   \n",
       "25    0.978474  0.918893  0.935617    ...     0.973114  0.958679  0.534149   \n",
       "26    0.998590  0.989569  0.995021    ...     0.882513  0.852820  0.734185   \n",
       "27    0.704953  0.830513  0.804771    ...     0.341343  0.282153  0.999939   \n",
       "28    0.961745  0.889218  0.908789    ...     0.986263  0.976147  0.474036   \n",
       "29    0.996423  0.993615  0.997666    ...     0.867422  0.835953  0.755205   \n",
       "...        ...       ...       ...    ...          ...       ...       ...   \n",
       "3726  0.899179  0.795735  0.822025    ...     0.998255  0.999055  0.313103   \n",
       "3727  0.884111  0.775144  0.802623    ...     0.997460  0.999929  0.281374   \n",
       "3728  0.953004  0.993817  0.987935    ...     0.736718  0.694074  0.881101   \n",
       "3729  0.876515  0.764912  0.792955    ...     0.996163  0.999982  0.265908   \n",
       "3730  0.886476  0.778333  0.805634    ...     0.997401  0.999884  0.286190   \n",
       "3731  0.879940  0.769505  0.797297    ...     0.996522  0.999995  0.272800   \n",
       "3732  0.877359  0.766042  0.794023    ...     0.996141  0.999985  0.267596   \n",
       "3733  0.884306  0.775392  0.802858    ...     0.997007  0.999938  0.281706   \n",
       "3734  0.986994  0.937190  0.951751    ...     0.961434  0.942181  0.576416   \n",
       "3735  0.691423  0.819251  0.792954    ...     0.328123  0.265581  0.997874   \n",
       "3736  0.997520  0.964275  0.975157    ...     0.933385  0.910670  0.644929   \n",
       "3737  0.882554  0.773424  0.800938    ...     0.998412  0.999133  0.279612   \n",
       "3738  0.923330  0.829952  0.854067    ...     0.997669  0.994753  0.368404   \n",
       "3739  0.877845  0.766702  0.794646    ...     0.996573  0.999989  0.268609   \n",
       "3740  0.880578  0.955977  0.942085    ...     0.601123  0.549994  0.951738   \n",
       "3741  0.754198  0.861939  0.840348    ...     0.425397  0.366503  0.972757   \n",
       "3742  0.876411  0.764773  0.792823    ...     0.996007  0.999975  0.265695   \n",
       "3743  0.942138  0.858216  0.880275    ...     0.995249  0.987553  0.417398   \n",
       "3744  0.944379  0.861628  0.883433    ...     0.994415  0.986573  0.423390   \n",
       "3745  0.929224  0.841329  0.864224    ...     0.991228  0.986344  0.392944   \n",
       "3746  0.906065  0.806070  0.831613    ...     1.000000  0.996593  0.331028   \n",
       "3747  0.879336  0.768696  0.796533    ...     0.996593  1.000000  0.271589   \n",
       "3748  0.697112  0.824338  0.798196    ...     0.331028  0.271589  1.000000   \n",
       "3749  0.883778  0.774706  0.802207    ...     0.997538  0.999919  0.280734   \n",
       "3750  0.895198  0.792118  0.818316    ...     0.999122  0.995148  0.311445   \n",
       "3751  0.888708  0.781625  0.808695    ...     0.998380  0.999264  0.291793   \n",
       "3752  0.882026  0.772324  0.799959    ...     0.997053  0.999974  0.277083   \n",
       "3753  0.866796  0.758004  0.785410    ...     0.991029  0.985559  0.268873   \n",
       "3754  0.876254  0.764686  0.792720    ...     0.997126  0.999752  0.265849   \n",
       "3755  0.877986  0.767552  0.795341    ...     0.997471  0.998536  0.271343   \n",
       "\n",
       "          3749      3750      3751      3752      3753      3754      3755  \n",
       "0     0.959220  0.964129  0.961941  0.958175  0.942648  0.954530  0.955047  \n",
       "1     0.721319  0.741015  0.728980  0.718704  0.704971  0.710392  0.713698  \n",
       "2     0.633851  0.656637  0.642506  0.630925  0.618134  0.621705  0.625609  \n",
       "3     0.878908  0.890762  0.883966  0.877114  0.862140  0.871264  0.873087  \n",
       "4     0.260065  0.291027  0.271196  0.256394  0.248381  0.245092  0.250634  \n",
       "5     0.798451  0.814748  0.805002  0.796185  0.781652  0.788890  0.791544  \n",
       "6     0.612046  0.635518  0.620919  0.609054  0.596513  0.599642  0.603679  \n",
       "7     0.883778  0.895198  0.888708  0.882026  0.866796  0.876254  0.877986  \n",
       "8     0.774706  0.792118  0.781625  0.772324  0.758004  0.764686  0.767552  \n",
       "9     0.802207  0.818316  0.808695  0.799959  0.785410  0.792720  0.795341  \n",
       "10    0.694284  0.714991  0.702274  0.691566  0.678080  0.682946  0.686445  \n",
       "11    0.645645  0.668082  0.654185  0.642756  0.629883  0.633653  0.637490  \n",
       "12    0.888481  0.899597  0.893306  0.886763  0.871527  0.881097  0.882773  \n",
       "13    0.378771  0.407830  0.389360  0.375257  0.365631  0.364373  0.369520  \n",
       "14    0.795935  0.812401  0.802534  0.793652  0.779252  0.786331  0.789022  \n",
       "15    0.531443  0.557147  0.541019  0.528235  0.516606  0.518196  0.522669  \n",
       "16    0.947862  0.954057  0.951017  0.946678  0.931233  0.942625  0.943384  \n",
       "17    0.696968  0.717593  0.704929  0.694258  0.680787  0.685671  0.689156  \n",
       "18    0.623699  0.646813  0.632458  0.620742  0.608073  0.611432  0.615399  \n",
       "19    0.717524  0.737360  0.725230  0.714894  0.701192  0.706536  0.709869  \n",
       "20    0.755643  0.773938  0.762844  0.753171  0.739123  0.745286  0.748325  \n",
       "21    0.462702  0.490076  0.472785  0.459339  0.448639  0.448876  0.453684  \n",
       "22    0.758256  0.776447  0.765422  0.755795  0.741744  0.747946  0.750967  \n",
       "23    0.357625  0.387064  0.368326  0.354078  0.344727  0.343106  0.348330  \n",
       "24    0.728792  0.748187  0.736355  0.726207  0.712389  0.717983  0.721231  \n",
       "25    0.961288  0.965953  0.963925  0.960271  0.944748  0.956708  0.957179  \n",
       "26    0.857700  0.870760  0.863182  0.855773  0.840681  0.849468  0.851507  \n",
       "27    0.291264  0.321790  0.302274  0.287628  0.279210  0.276420  0.281871  \n",
       "28    0.978108  0.980401  0.979937  0.977351  0.961792  0.974555  0.974585  \n",
       "29    0.841095  0.855194  0.846912  0.839061  0.824247  0.832469  0.834711  \n",
       "...        ...       ...       ...       ...       ...       ...       ...  \n",
       "3726  0.999368  0.995867  0.999183  0.999271  0.984314  0.998504  0.997498  \n",
       "3727  0.999991  0.995988  0.999514  0.999973  0.986528  0.999740  0.998696  \n",
       "3728  0.700887  0.721501  0.709114  0.698218  0.684565  0.689610  0.693522  \n",
       "3729  0.999836  0.994795  0.999082  0.999917  0.985396  0.999751  0.998456  \n",
       "3730  0.999942  0.995625  0.999444  0.999941  0.985367  0.999534  0.998378  \n",
       "3731  0.999902  0.994948  0.999206  0.999967  0.985104  0.999681  0.998391  \n",
       "3732  0.999836  0.994653  0.999067  0.999924  0.984988  0.999690  0.998352  \n",
       "3733  0.999929  0.995228  0.999336  0.999962  0.984942  0.999554  0.998314  \n",
       "3734  0.945547  0.954686  0.949598  0.944199  0.933806  0.940618  0.942779  \n",
       "3735  0.275199  0.310749  0.287460  0.271234  0.272356  0.261088  0.268163  \n",
       "3736  0.914516  0.923761  0.918702  0.913001  0.897736  0.907971  0.909304  \n",
       "3737  0.999464  0.998143  0.999463  0.999256  0.991583  0.999694  0.999434  \n",
       "3738  0.995639  0.994215  0.996262  0.995323  0.980209  0.993866  0.993363  \n",
       "3739  0.999904  0.995294  0.999246  0.999950  0.986100  0.999833  0.998651  \n",
       "3740  0.558026  0.584697  0.568049  0.554881  0.545170  0.545241  0.550608  \n",
       "3741  0.375558  0.409650  0.388076  0.371827  0.371944  0.362324  0.369429  \n",
       "3742  0.999808  0.994562  0.999018  0.999904  0.984979  0.999692  0.998347  \n",
       "3743  0.989160  0.991680  0.990803  0.988491  0.977541  0.986930  0.987384  \n",
       "3744  0.988217  0.990587  0.989996  0.987545  0.975885  0.985804  0.986303  \n",
       "3745  0.987469  0.987534  0.988839  0.987028  0.972176  0.985351  0.984958  \n",
       "3746  0.997538  0.999122  0.998380  0.997053  0.991029  0.997126  0.997471  \n",
       "3747  0.999919  0.995148  0.999264  0.999974  0.985559  0.999752  0.998536  \n",
       "3748  0.280734  0.311445  0.291793  0.277083  0.268873  0.265849  0.271343  \n",
       "3749  1.000000  0.996198  0.999597  0.999973  0.986867  0.999787  0.998858  \n",
       "3750  0.996198  1.000000  0.997506  0.995616  0.995125  0.996531  0.997844  \n",
       "3751  0.999597  0.997506  1.000000  0.999451  0.988564  0.999368  0.999281  \n",
       "3752  0.999973  0.995616  0.999451  1.000000  0.985969  0.999744  0.998698  \n",
       "3753  0.986867  0.995125  0.988564  0.985969  1.000000  0.988813  0.991499  \n",
       "3754  0.999787  0.996531  0.999368  0.999744  0.988813  1.000000  0.999222  \n",
       "3755  0.998858  0.997844  0.999281  0.998698  0.991499  0.999222  1.000000  \n",
       "\n",
       "[3756 rows x 3756 columns]"
      ]
     },
     "execution_count": 65,
     "metadata": {},
     "output_type": "execute_result"
    }
   ],
   "source": [
    "import numpy as np\n",
    "print(\"Most of the variables look highly correlated, so their exists a multi-colinearity problem \\n This data need variable transformations\")\n",
    "\n",
    "pd.DataFrame(np.corrcoef(K))"
   ]
  },
  {
   "cell_type": "code",
   "execution_count": 72,
   "metadata": {
    "collapsed": false
   },
   "outputs": [
    {
     "data": {
      "text/plain": [
       "0.39888554989309166"
      ]
     },
     "execution_count": 72,
     "metadata": {},
     "output_type": "execute_result"
    }
   ],
   "source": [
    "# Linear regression using Sci-kit learn package\n",
    "from sklearn.linear_model import LinearRegression\n",
    "lm = LinearRegression()\n",
    "lm.fit(X, y)\n",
    "lm.score(X, y)"
   ]
  },
  {
   "cell_type": "code",
   "execution_count": 102,
   "metadata": {
    "collapsed": false
   },
   "outputs": [
    {
     "data": {
      "text/plain": [
       "0.39650635120480604"
      ]
     },
     "execution_count": 102,
     "metadata": {},
     "output_type": "execute_result"
    }
   ],
   "source": [
    "# alpha_ridge = [1e-15, 1e-10, 1e-8, 1e-4, 1e-3,1e-2, 1, 5, 10, 20]\n",
    "from sklearn.linear_model import Ridge\n",
    "ridgereg = Ridge(alpha=1e-2,normalize=True)\n",
    "ridgereg.fit(X,y)\n",
    "ridgereg.score(X,y)"
   ]
  },
  {
   "cell_type": "code",
   "execution_count": 119,
   "metadata": {
    "collapsed": false
   },
   "outputs": [
    {
     "name": "stderr",
     "output_type": "stream",
     "text": [
      "C:\\Users\\kulka\\Anaconda3\\lib\\site-packages\\pandas\\core\\generic.py:2773: SettingWithCopyWarning: \n",
      "A value is trying to be set on a copy of a slice from a DataFrame.\n",
      "Try using .loc[row_indexer,col_indexer] = value instead\n",
      "\n",
      "See the caveats in the documentation: http://pandas.pydata.org/pandas-docs/stable/indexing.html#indexing-view-versus-copy\n",
      "  self[name] = value\n",
      "C:\\Users\\kulka\\Anaconda3\\lib\\site-packages\\ipykernel\\__main__.py:15: SettingWithCopyWarning: \n",
      "A value is trying to be set on a copy of a slice from a DataFrame.\n",
      "Try using .loc[row_indexer,col_indexer] = value instead\n",
      "\n",
      "See the caveats in the documentation: http://pandas.pydata.org/pandas-docs/stable/indexing.html#indexing-view-versus-copy\n"
     ]
    }
   ],
   "source": [
    "from sklearn.cross_validation import train_test_split\n",
    "le =LabelEncoder()\n",
    "S = main_data.dropna()\n",
    "Z = S[['color', 'director_facebook_likes','num_critic_for_reviews', 'duration','actor_1_facebook_likes', 'actor_2_facebook_likes',\n",
    "       'actor_3_facebook_likes', 'movie_facebook_likes','gross','num_voted_users','cast_total_facebook_likes', 'facenumber_in_poster', 'num_user_for_reviews', 'language', 'country',\n",
    "       'content_rating', 'budget', 'title_year', 'aspect_ratio']]\n",
    "\n",
    "Z.color = Z.color.astype(str)\n",
    "Z.language = Z.language.astype(str)\n",
    "Z.country = Z.country.astype(str)\n",
    "Z.content_rating = Z.content_rating.astype(str)\n",
    "for i in Z.columns:\n",
    "    if Z[i].dtype == 'object':\n",
    "        le.fit(Z[i])\n",
    "        Z[i] = le.transform(Z[i])\n",
    "y = S.imdb_score\n",
    "X_train, X_test, y_train, y_test = train_test_split(Z,y,test_size=0.2, random_state=0)"
   ]
  },
  {
   "cell_type": "code",
   "execution_count": 120,
   "metadata": {
    "collapsed": false
   },
   "outputs": [
    {
     "data": {
      "text/plain": [
       "0.39258879141403041"
      ]
     },
     "execution_count": 120,
     "metadata": {},
     "output_type": "execute_result"
    }
   ],
   "source": [
    "# Linear regression using Sci-kit learn package\n",
    "from sklearn.linear_model import LinearRegression\n",
    "lm = LinearRegression()\n",
    "lm.fit(X_train,y_train)\n",
    "lm.score(X_train,y_train)"
   ]
  },
  {
   "cell_type": "code",
   "execution_count": 128,
   "metadata": {
    "collapsed": false
   },
   "outputs": [
    {
     "data": {
      "text/plain": [
       "0.69292141875203339"
      ]
     },
     "execution_count": 128,
     "metadata": {},
     "output_type": "execute_result"
    }
   ],
   "source": [
    "from sklearn.tree import DecisionTreeRegressor\n",
    "regression_tree = DecisionTreeRegressor(min_samples_split=30, min_samples_leaf=10,random_state=0)\n",
    "regression_tree.fit(X,y)\n",
    "regression_tree.score(X,y)"
   ]
  },
  {
   "cell_type": "code",
   "execution_count": 136,
   "metadata": {
    "collapsed": false
   },
   "outputs": [
    {
     "data": {
      "text/plain": [
       "0.73424361516538961"
      ]
     },
     "execution_count": 136,
     "metadata": {},
     "output_type": "execute_result"
    }
   ],
   "source": [
    "from sklearn.tree import DecisionTreeRegressor\n",
    "regression_tree = DecisionTreeRegressor(min_samples_split=15, min_samples_leaf=10,random_state=0)\n",
    "regression_tree.fit(X_train,y_train)\n",
    "regression_tree.score(X_train,y_train)"
   ]
  },
  {
   "cell_type": "code",
   "execution_count": 137,
   "metadata": {
    "collapsed": true
   },
   "outputs": [],
   "source": [
    "from sklearn.cross_validation import cross_val_score\n",
    "from sklearn.cross_validation import KFold\n",
    "crossvalidation = KFold(n=X.shape[0], n_folds=5, shuffle=True, random_state=1)"
   ]
  },
  {
   "cell_type": "code",
   "execution_count": 141,
   "metadata": {
    "collapsed": false
   },
   "outputs": [
    {
     "name": "stderr",
     "output_type": "stream",
     "text": [
      "C:\\Users\\kulka\\Anaconda3\\lib\\site-packages\\sklearn\\metrics\\scorer.py:90: DeprecationWarning: Scoring method mean_squared_error was renamed to neg_mean_squared_error in version 0.18 and will be removed in 0.20.\n",
      "  sample_weight=sample_weight)\n",
      "C:\\Users\\kulka\\Anaconda3\\lib\\site-packages\\sklearn\\metrics\\scorer.py:90: DeprecationWarning: Scoring method mean_squared_error was renamed to neg_mean_squared_error in version 0.18 and will be removed in 0.20.\n",
      "  sample_weight=sample_weight)\n",
      "C:\\Users\\kulka\\Anaconda3\\lib\\site-packages\\sklearn\\metrics\\scorer.py:90: DeprecationWarning: Scoring method mean_squared_error was renamed to neg_mean_squared_error in version 0.18 and will be removed in 0.20.\n",
      "  sample_weight=sample_weight)\n",
      "C:\\Users\\kulka\\Anaconda3\\lib\\site-packages\\sklearn\\metrics\\scorer.py:90: DeprecationWarning: Scoring method mean_squared_error was renamed to neg_mean_squared_error in version 0.18 and will be removed in 0.20.\n",
      "  sample_weight=sample_weight)\n",
      "C:\\Users\\kulka\\Anaconda3\\lib\\site-packages\\sklearn\\metrics\\scorer.py:90: DeprecationWarning: Scoring method mean_squared_error was renamed to neg_mean_squared_error in version 0.18 and will be removed in 0.20.\n",
      "  sample_weight=sample_weight)\n"
     ]
    },
    {
     "data": {
      "text/plain": [
       "0.71777657999619238"
      ]
     },
     "execution_count": 141,
     "metadata": {},
     "output_type": "execute_result"
    }
   ],
   "source": [
    "score = np.mean(cross_val_score(regression_tree, X, y, scoring=\"mean_squared_error\", cv=crossvalidation, n_jobs=1))\n",
    "abs(score)"
   ]
  },
  {
   "cell_type": "code",
   "execution_count": null,
   "metadata": {
    "collapsed": false
   },
   "outputs": [],
   "source": []
  },
  {
   "cell_type": "code",
   "execution_count": null,
   "metadata": {
    "collapsed": true
   },
   "outputs": [],
   "source": []
  }
 ],
 "metadata": {
  "kernelspec": {
   "display_name": "Python 3",
   "language": "python",
   "name": "python3"
  },
  "language_info": {
   "codemirror_mode": {
    "name": "ipython",
    "version": 3
   },
   "file_extension": ".py",
   "mimetype": "text/x-python",
   "name": "python",
   "nbconvert_exporter": "python",
   "pygments_lexer": "ipython3",
   "version": "3.6.0"
  }
 },
 "nbformat": 4,
 "nbformat_minor": 1
}
